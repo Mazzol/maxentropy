{
 "cells": [
  {
   "cell_type": "markdown",
   "metadata": {},
   "source": [
    "# Fitting maximum entropy models - Berger machine translation example"
   ]
  },
  {
   "cell_type": "markdown",
   "metadata": {},
   "source": [
    "Copyright (c) 2003-2017 Ed Schofield\n",
    "\n",
    "## Example use of the maximum entropy module:\n",
    "\n",
    "Machine translation example -- English to French -- from the paper 'A\n",
    "maximum entropy approach to natural language processing' by Berger et\n",
    "al., 1996.\n",
    "\n",
    "Consider the translation of the English word 'in' into French.  We\n",
    "notice in a corpus of parallel texts the following facts:\n",
    "\n",
    "    (1)    p(dans) + p(en) + p(à) + p(au cours de) + p(pendant) = 1\n",
    "    (2)    p(dans) + p(en) = 3/10\n",
    "    (3)    p(dans) + p(à)  = 1/2\n",
    "\n",
    "This code finds the probability distribution with maximal entropy\n",
    "subject to these constraints.\n"
   ]
  },
  {
   "cell_type": "code",
   "execution_count": 12,
   "metadata": {
    "collapsed": true
   },
   "outputs": [],
   "source": [
    "import maxentropy\n",
    "\n",
    "a_grave = u'\\u00e0'\n",
    "\n",
    "samplespace = ['dans', 'en', a_grave, 'au cours de', 'pendant']\n",
    "\n",
    "model = maxentropy.Model(samplespace)\n",
    "model.verbose = True"
   ]
  },
  {
   "cell_type": "code",
   "execution_count": 13,
   "metadata": {
    "collapsed": true
   },
   "outputs": [],
   "source": [
    "def f0(x):\n",
    "    return x in samplespace\n",
    "\n",
    "def f1(x):\n",
    "    return x=='dans' or x=='en'\n",
    "\n",
    "def f2(x):\n",
    "    return x=='dans' or x==a_grave\n",
    "\n",
    "f = [f0, f1, f2]\n",
    "\n",
    "# Now set the desired feature expectations\n",
    "K = [1.0, 0.3, 0.5]"
   ]
  },
  {
   "cell_type": "code",
   "execution_count": 14,
   "metadata": {},
   "outputs": [
    {
     "name": "stdout",
     "output_type": "stream",
     "text": [
      "Grad eval #0\n",
      "  norm of gradient = 0.1414213562373095\n",
      "Function eval # 0\n",
      "  dual is  1.60943791243\n",
      "Function eval # 1\n",
      "  dual is  1.59143757899\n",
      "Grad eval #1\n",
      "  norm of gradient = 0.11314687047891211\n",
      "Function eval # 2\n",
      "  dual is  1.55922794427\n",
      "Grad eval #2\n",
      "  norm of gradient = 0.006971629366968201\n",
      "Iteration # 0\n",
      "Function eval # 3\n",
      "  dual is  1.55922794427\n",
      "Function eval # 4\n",
      "  dual is  1.55918562772\n",
      "Grad eval #3\n",
      "  norm of gradient = 0.005172758674855188\n",
      "Function eval # 5\n",
      "  dual is  1.55913386019\n",
      "Grad eval #4\n",
      "  norm of gradient = 0.0008214255815072707\n",
      "Iteration # 1\n",
      "Function eval # 6\n",
      "  dual is  1.55913386019\n",
      "Function eval # 7\n",
      "  dual is  1.55913325268\n",
      "Grad eval #5\n",
      "  norm of gradient = 0.0006576606967423743\n",
      "Function eval # 8\n",
      "  dual is  1.55913216731\n",
      "Grad eval #6\n",
      "  norm of gradient = 3.6663277937352617e-06\n",
      "Iteration # 2\n",
      "Function eval # 9\n",
      "  dual is  1.55913216731\n",
      "Function eval # 10\n",
      "  dual is  1.5591321673\n",
      "Grad eval #7\n",
      "  norm of gradient = 2.942583870445164e-06\n",
      "Function eval # 11\n",
      "  dual is  1.55913216727\n",
      "Grad eval #8\n",
      "  norm of gradient = 4.688497360978039e-07\n",
      "Iteration # 3\n",
      "Function eval # 12\n",
      "  dual is  1.55913216727\n",
      "Function eval # 13\n",
      "  dual is  1.55913216727\n",
      "Grad eval #9\n",
      "  norm of gradient = 3.48505575389047e-07\n",
      "Function eval # 14\n",
      "  dual is  1.55913216727\n",
      "Grad eval #10\n",
      "  norm of gradient = 4.3767323023680994e-08\n",
      "Iteration # 4\n",
      "Function eval # 15\n",
      "  dual is  1.55913216727\n",
      "Optimization terminated successfully.\n",
      "         Current function value: 1.559132\n",
      "         Iterations: 5\n",
      "         Function evaluations: 11\n",
      "         Gradient evaluations: 11\n"
     ]
    }
   ],
   "source": [
    "# Fit the model\n",
    "model.fit(f, K)"
   ]
  },
  {
   "cell_type": "code",
   "execution_count": 16,
   "metadata": {},
   "outputs": [
    {
     "data": {
      "text/plain": [
       "matrix([[ 1.,  1.,  1.,  1.,  1.],\n",
       "        [ 1.,  1.,  0.,  0.,  0.],\n",
       "        [ 1.,  0.,  1.,  0.,  0.]])"
      ]
     },
     "execution_count": 16,
     "metadata": {},
     "output_type": "execute_result"
    }
   ],
   "source": [
    "model.F.todense()"
   ]
  },
  {
   "cell_type": "code",
   "execution_count": 17,
   "metadata": {},
   "outputs": [
    {
     "name": "stdout",
     "output_type": "stream",
     "text": [
      "\n",
      "Fitted model parameters are:\n",
      "[  6.49522780e-16  -5.24869186e-01   4.87527740e-01]\n"
     ]
    }
   ],
   "source": [
    "# Output the distribution\n",
    "print(\"\\nFitted model parameters are:\\n\" + str(model.params))"
   ]
  },
  {
   "cell_type": "code",
   "execution_count": 18,
   "metadata": {},
   "outputs": [
    {
     "name": "stdout",
     "output_type": "stream",
     "text": [
      "\n",
      "Fitted distribution is:\n",
      "\tx = dans:           p(x) = 0.185857184119\n",
      "\tx = en:             p(x) = 0.114142858774\n",
      "\tx = à:              p(x) = 0.314142824584\n",
      "\tx = au cours de:    p(x) = 0.192928566261\n",
      "\tx = pendant:        p(x) = 0.192928566261\n"
     ]
    }
   ],
   "source": [
    "print(\"\\nFitted distribution is:\")\n",
    "p = model.probdist()\n",
    "for j in range(len(model.samplespace)):\n",
    "    x = model.samplespace[j]\n",
    "    print(\"\\tx = %-15s\" %(x + \":\",) + \" p(x) = \"+str(p[j]))"
   ]
  },
  {
   "cell_type": "code",
   "execution_count": 10,
   "metadata": {},
   "outputs": [
    {
     "name": "stdout",
     "output_type": "stream",
     "text": [
      "\n",
      "Desired constraints:\n",
      "\tp['dans'] + p['en'] = 0.3\n",
      "\tp['dans'] + p['à']  = 0.5\n",
      "\n",
      "Actual expectations under the fitted model:\n",
      "\tp['dans'] + p['en'] = 0.300000042893\n",
      "\tp['dans'] + p['à']  = 0.500000008703\n"
     ]
    }
   ],
   "source": [
    "# Now show how well the constraints are satisfied:\n",
    "print()\n",
    "print(\"Desired constraints:\")\n",
    "print(\"\\tp['dans'] + p['en'] = 0.3\")\n",
    "print(\"\\tp['dans'] + p['à']  = 0.5\")\n",
    "print()\n",
    "print(\"Actual expectations under the fitted model:\")\n",
    "print(\"\\tp['dans'] + p['en'] =\", p[0] + p[1])\n",
    "print(\"\\tp['dans'] + p['à']  = \" + str(p[0]+p[2]))\n",
    "# (Or substitute \"x.encode('latin-1')\" if you have a primitive terminal.)"
   ]
  }
 ],
 "metadata": {
  "kernelspec": {
   "display_name": "Python 3",
   "language": "python",
   "name": "python3"
  },
  "language_info": {
   "codemirror_mode": {
    "name": "ipython",
    "version": 3
   },
   "file_extension": ".py",
   "mimetype": "text/x-python",
   "name": "python",
   "nbconvert_exporter": "python",
   "pygments_lexer": "ipython3",
   "version": "3.6.0"
  }
 },
 "nbformat": 4,
 "nbformat_minor": 2
}
