{
 "cells": [
  {
   "cell_type": "markdown",
   "metadata": {},
   "source": [
    "# Fitting truncated Gaussians"
   ]
  },
  {
   "cell_type": "code",
   "execution_count": 1,
   "metadata": {
    "collapsed": true
   },
   "outputs": [],
   "source": [
    "from scipy import stats\n",
    "import scipy.sparse\n",
    "import numpy as np\n",
    "import maxentropy"
   ]
  },
  {
   "cell_type": "code",
   "execution_count": 2,
   "metadata": {
    "collapsed": true
   },
   "outputs": [],
   "source": [
    "whichplot = 2  # sub-plot in Figure 6.1 (0 , 1 , or 2)\n",
    "d = 1     # number of dimensions\n",
    "m = d*3   # number of features"
   ]
  },
  {
   "cell_type": "code",
   "execution_count": 3,
   "metadata": {
    "collapsed": true
   },
   "outputs": [],
   "source": [
    "# Bounds\n",
    "o = np.ones(d)\n",
    "if whichplot == 0:\n",
    "    lower = -2.5 * o\n",
    "    upper = -lower\n",
    "elif whichplot == 1:\n",
    "    lower = 0.5 * o\n",
    "    upper = 2.5 * o\n",
    "elif whichplot == 2:\n",
    "    lower = -0.1 * o\n",
    "    upper = 0.1 * o"
   ]
  },
  {
   "cell_type": "code",
   "execution_count": 4,
   "metadata": {
    "collapsed": true
   },
   "outputs": [],
   "source": [
    "def f0(x):\n",
    "    return x"
   ]
  },
  {
   "cell_type": "code",
   "execution_count": 5,
   "metadata": {
    "collapsed": true
   },
   "outputs": [],
   "source": [
    "def f1(x):\n",
    "    return x**2"
   ]
  },
  {
   "cell_type": "code",
   "execution_count": 6,
   "metadata": {
    "collapsed": true
   },
   "outputs": [],
   "source": [
    "def f2(x):\n",
    "    return (lower < x) & (x < upper)"
   ]
  },
  {
   "cell_type": "code",
   "execution_count": 7,
   "metadata": {
    "collapsed": true
   },
   "outputs": [],
   "source": [
    "f = [f0, f1, f2]"
   ]
  },
  {
   "cell_type": "code",
   "execution_count": 8,
   "metadata": {
    "collapsed": true
   },
   "outputs": [],
   "source": [
    "# Target constraint values\n",
    "b = np.empty (m , float )\n",
    "if whichplot == 0:\n",
    "    b [0: m :3] = 0   # expectation\n",
    "    b [1: m :3] = 1   # second moment\n",
    "    b [2: m :3] = 1   # truncate completely outside bounds\n",
    "elif whichplot == 1:\n",
    "    b [0: m :3] = 1.0 # expectation\n",
    "    b [1: m :3] = 1.2 # second moment\n",
    "    b [2: m :3] = 1   # truncate completely outside bounds\n",
    "elif whichplot == 2:\n",
    "    b [:] = [0. , 0.0033 , 1]"
   ]
  },
  {
   "cell_type": "code",
   "execution_count": 9,
   "metadata": {},
   "outputs": [
    {
     "data": {
      "text/plain": [
       "array([ 0.    ,  0.0033,  1.    ])"
      ]
     },
     "execution_count": 9,
     "metadata": {},
     "output_type": "execute_result"
    }
   ],
   "source": [
    "b"
   ]
  },
  {
   "cell_type": "markdown",
   "metadata": {},
   "source": [
    "Create a generator of features of random points under a Gaussian auxiliary dist $q$ with diagonal covariance matrix."
   ]
  },
  {
   "cell_type": "code",
   "execution_count": 10,
   "metadata": {
    "collapsed": true
   },
   "outputs": [],
   "source": [
    "from scipy.stats import norm"
   ]
  },
  {
   "cell_type": "code",
   "execution_count": 11,
   "metadata": {},
   "outputs": [
    {
     "data": {
      "text/plain": [
       "(0.0, 0.057445626465380289)"
      ]
     },
     "execution_count": 11,
     "metadata": {},
     "output_type": "execute_result"
    }
   ],
   "source": [
    "mu = b[0]\n",
    "sigma = (b[1] - mu**2)**0.5\n",
    "mu, sigma"
   ]
  },
  {
   "cell_type": "code",
   "execution_count": 12,
   "metadata": {
    "collapsed": true
   },
   "outputs": [],
   "source": [
    "auxiliary = stats.norm(loc=mu, scale=sigma)"
   ]
  },
  {
   "cell_type": "code",
   "execution_count": 13,
   "metadata": {},
   "outputs": [
    {
     "data": {
      "text/plain": [
       "<scipy.stats._distn_infrastructure.rv_frozen at 0x114356f60>"
      ]
     },
     "execution_count": 13,
     "metadata": {},
     "output_type": "execute_result"
    }
   ],
   "source": [
    "auxiliary"
   ]
  },
  {
   "cell_type": "code",
   "execution_count": 14,
   "metadata": {},
   "outputs": [],
   "source": [
    "from maxentropy.maxentutils import auxiliary_sampler_scipy"
   ]
  },
  {
   "cell_type": "code",
   "execution_count": 41,
   "metadata": {},
   "outputs": [],
   "source": [
    "sampler = auxiliary_sampler_scipy(auxiliary, n=10**5)"
   ]
  },
  {
   "cell_type": "code",
   "execution_count": 42,
   "metadata": {
    "collapsed": true
   },
   "outputs": [],
   "source": [
    "xs, log_q_xs = sampler()"
   ]
  },
  {
   "cell_type": "code",
   "execution_count": 43,
   "metadata": {},
   "outputs": [
    {
     "data": {
      "text/plain": [
       "((1, 100000), (100000,))"
      ]
     },
     "execution_count": 43,
     "metadata": {},
     "output_type": "execute_result"
    }
   ],
   "source": [
    "xs.shape, log_q_xs.shape"
   ]
  },
  {
   "cell_type": "code",
   "execution_count": 44,
   "metadata": {},
   "outputs": [
    {
     "data": {
      "text/plain": [
       "array([ 0.05450201, -0.0394257 ,  0.09740581,  0.1205572 , -0.06662786,\n",
       "        0.04797003,  0.00822622, -0.01663842, -0.07285212, -0.06543732])"
      ]
     },
     "execution_count": 44,
     "metadata": {},
     "output_type": "execute_result"
    }
   ],
   "source": [
    "xs[0, :10]"
   ]
  },
  {
   "cell_type": "code",
   "execution_count": 45,
   "metadata": {},
   "outputs": [
    {
     "data": {
      "text/plain": [
       "(array([[ 0.05450201, -0.0394257 ,  0.09740581, ...,  0.01175197,\n",
       "          0.10218522,  0.10200736]]),\n",
       " array([[  5.45020093e-02,  -3.94257020e-02,   9.74058079e-02, ...,\n",
       "           1.17519668e-02,   1.02185219e-01,   1.02007358e-01],\n",
       "        [  2.97046902e-03,   1.55438598e-03,   9.48789140e-03, ...,\n",
       "           1.38108724e-04,   1.04418189e-02,   1.04055010e-02],\n",
       "        [  1.00000000e+00,   1.00000000e+00,   1.00000000e+00, ...,\n",
       "           1.00000000e+00,   0.00000000e+00,   0.00000000e+00]]))"
      ]
     },
     "execution_count": 45,
     "metadata": {},
     "output_type": "execute_result"
    }
   ],
   "source": [
    "features = maxentropy.bigmodel.vec_feature_function(f, sparse=False)\n",
    "F1 = features(xs)\n",
    "xs, F1"
   ]
  },
  {
   "cell_type": "markdown",
   "metadata": {},
   "source": [
    "We pass `auxiliary_sampler` as a generator function that will be used for importance sampling. This yields a tuple `(log_q_xs, xs)` whose dimensions are `(n,)` and `(d, n)`.\n",
    "\n",
    "We also pass `features` as a vectorized function that operates on each vector of samples xs = `[x_1,...,x_n]`."
   ]
  },
  {
   "cell_type": "code",
   "execution_count": 49,
   "metadata": {},
   "outputs": [],
   "source": [
    "model = maxentropy.BigModel(sampler)   # create a model\n",
    "#model.verbose=True\n",
    "model.fit(f, b)"
   ]
  },
  {
   "cell_type": "code",
   "execution_count": null,
   "metadata": {},
   "outputs": [],
   "source": [
    "%%timeit\n",
    "model.resetparams(len(f))\n",
    "#model.sparse = True\n",
    "model.fit(f, b)                    # fit under the given constraints using SPO"
   ]
  },
  {
   "cell_type": "code",
   "execution_count": 30,
   "metadata": {},
   "outputs": [
    {
     "data": {
      "text/plain": [
       "(43, 325)"
      ]
     },
     "execution_count": 30,
     "metadata": {},
     "output_type": "execute_result"
    }
   ],
   "source": [
    "model.iters, model.fnevals"
   ]
  },
  {
   "cell_type": "markdown",
   "metadata": {},
   "source": [
    "After running this code, the `model` has a vector\n",
    "of parameters $\\theta = (\\theta_i)^{3d}_{i=1}$\n",
    "stored as the array `model.params`. The pdf of the fitted model can then be retrieved\n",
    "with the `model.pdf` method and plotted as follows:\n",
    "\n"
   ]
  },
  {
   "cell_type": "code",
   "execution_count": 31,
   "metadata": {
    "collapsed": true
   },
   "outputs": [],
   "source": [
    "%matplotlib inline"
   ]
  },
  {
   "cell_type": "code",
   "execution_count": 32,
   "metadata": {},
   "outputs": [
    {
     "data": {
      "text/plain": [
       "(0, 5.5459995550535863)"
      ]
     },
     "execution_count": 32,
     "metadata": {},
     "output_type": "execute_result"
    },
    {
     "data": {
      "image/png": "[encoded data removed]",
      "text/plain": [
       "<matplotlib.figure.Figure at 0x1167b1240>"
      ]
     },
     "metadata": {},
     "output_type": "display_data"
    }
   ],
   "source": [
    "# Plot the marginal pdf in dimension 0 , letting x_d =0\n",
    "# for all other dimensions d.\n",
    "xs = np.arange(lower[0], upper[0], (upper[0] - lower[0]) / 1000.)\n",
    "all_xs = np.zeros((d , len(xs)), float)\n",
    "all_xs[0, :] = xs\n",
    "pdf = model.pdf(model.features(all_xs))\n",
    "\n",
    "import matplotlib.pyplot as plt\n",
    "plt.plot(xs, pdf)\n",
    "plt.ylim(0, pdf.max()*1.1)"
   ]
  },
  {
   "cell_type": "code",
   "execution_count": 33,
   "metadata": {},
   "outputs": [
    {
     "data": {
      "text/plain": [
       "array([  2.05121524e-08,   3.30004396e-03,   9.99999946e-01])"
      ]
     },
     "execution_count": 33,
     "metadata": {},
     "output_type": "execute_result"
    }
   ],
   "source": [
    "model.expectations()"
   ]
  },
  {
   "cell_type": "code",
   "execution_count": 34,
   "metadata": {},
   "outputs": [
    {
     "data": {
      "text/plain": [
       "array([ 0.    ,  0.0033,  1.    ])"
      ]
     },
     "execution_count": 34,
     "metadata": {},
     "output_type": "execute_result"
    }
   ],
   "source": [
    "b"
   ]
  },
  {
   "cell_type": "code",
   "execution_count": 39,
   "metadata": {},
   "outputs": [
    {
     "data": {
      "text/plain": [
       "True"
      ]
     },
     "execution_count": 39,
     "metadata": {},
     "output_type": "execute_result"
    }
   ],
   "source": [
    "np.allclose(model.expectations(), b, atol=1e-6)"
   ]
  },
  {
   "cell_type": "code",
   "execution_count": null,
   "metadata": {
    "collapsed": true
   },
   "outputs": [],
   "source": []
  }
 ],
 "metadata": {
  "kernelspec": {
   "display_name": "Python 3",
   "language": "python",
   "name": "python3"
  },
  "language_info": {
   "codemirror_mode": {
    "name": "ipython",
    "version": 3
   },
   "file_extension": ".py",
   "mimetype": "text/x-python",
   "name": "python",
   "nbconvert_exporter": "python",
   "pygments_lexer": "ipython3",
   "version": "3.6.0"
  }
 },
 "nbformat": 4,
 "nbformat_minor": 2
}
