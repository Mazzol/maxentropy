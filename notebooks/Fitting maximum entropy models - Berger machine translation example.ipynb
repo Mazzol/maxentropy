{
 "cells": [
  {
   "cell_type": "markdown",
   "metadata": {},
   "source": [
    "# Fitting maximum entropy models - Berger machine translation example"
   ]
  },
  {
   "cell_type": "markdown",
   "metadata": {},
   "source": [
    "Copyright (c) 2003-2017 Ed Schofield\n",
    "\n",
    "## Example use of the maximum entropy module:\n",
    "\n",
    "Machine translation example -- English to French -- from the paper 'A\n",
    "maximum entropy approach to natural language processing' by Berger et\n",
    "al., 1996.\n",
    "\n",
    "Consider the translation of the English word 'in' into French.  We\n",
    "notice in a corpus of parallel texts the following facts:\n",
    "\n",
    "    (1)    p(dans) + p(en) + p(à) + p(au cours de) + p(pendant) = 1\n",
    "    (2)    p(dans) + p(en) = 3/10\n",
    "    (3)    p(dans) + p(à)  = 1/2\n",
    "\n",
    "This code finds the probability distribution with maximal entropy\n",
    "subject to these constraints.\n"
   ]
  },
  {
   "cell_type": "code",
   "execution_count": 22,
   "metadata": {
    "collapsed": true
   },
   "outputs": [],
   "source": [
    "import maxentropy.skmaxent\n",
    "\n",
    "a_grave = u'\\u00e0'\n",
    "\n",
    "samplespace = ['dans', 'en', a_grave, 'au cours de', 'pendant']\n",
    "\n"
   ]
  },
  {
   "cell_type": "code",
   "execution_count": 23,
   "metadata": {
    "collapsed": true
   },
   "outputs": [],
   "source": [
    "def f0(x):\n",
    "    return x in samplespace\n",
    "\n",
    "def f1(x):\n",
    "    return x=='dans' or x=='en'\n",
    "\n",
    "def f2(x):\n",
    "    return x=='dans' or x==a_grave\n",
    "\n",
    "f = [f0, f1, f2]"
   ]
  },
  {
   "cell_type": "code",
   "execution_count": 24,
   "metadata": {},
   "outputs": [
    {
     "name": "stdout",
     "output_type": "stream",
     "text": [
      "Computing feature 0 of 3 ...\n",
      "Computing feature 1 of 3 ...\n",
      "Computing feature 2 of 3 ...\n"
     ]
    }
   ],
   "source": [
    "model = maxentropy.skmaxent.MinDivergenceModel(f, samplespace, vectorized=False, verbose=True)"
   ]
  },
  {
   "cell_type": "code",
   "execution_count": 44,
   "metadata": {
    "collapsed": true
   },
   "outputs": [],
   "source": [
    "# Now set the desired feature expectations\n",
    "K = [1.0, 0.3, 0.5]"
   ]
  },
  {
   "cell_type": "code",
   "execution_count": 36,
   "metadata": {
    "collapsed": true
   },
   "outputs": [],
   "source": [
    "import numpy as np"
   ]
  },
  {
   "cell_type": "code",
   "execution_count": 37,
   "metadata": {},
   "outputs": [
    {
     "data": {
      "text/plain": [
       "array([[ 1.     ,  0.31111,  0.5    ]])"
      ]
     },
     "execution_count": 37,
     "metadata": {},
     "output_type": "execute_result"
    }
   ],
   "source": [
    "np.array(K, ndmin=2)"
   ]
  },
  {
   "cell_type": "code",
   "execution_count": 38,
   "metadata": {},
   "outputs": [
    {
     "name": "stdout",
     "output_type": "stream",
     "text": [
      "Grad eval #11\n",
      "  norm of gradient = 0.011109957106591984\n",
      "Function eval # 16\n",
      "  dual is  1.56496346393\n",
      "Function eval # 17\n",
      "  dual is  1.56485301222\n",
      "Grad eval #12\n",
      "  norm of gradient = 0.008780776567546288\n",
      "Function eval # 18\n",
      "  dual is  1.56467162285\n",
      "Grad eval #13\n",
      "  norm of gradient = 0.0019147257193012923\n",
      "Iteration # 5\n",
      "Function eval # 19\n",
      "  dual is  1.56467162285\n",
      "Function eval # 20\n",
      "  dual is  1.56466844082\n",
      "Grad eval #14\n",
      "  norm of gradient = 0.0014494133675170145\n",
      "Function eval # 21\n",
      "  dual is  1.56466424222\n",
      "Grad eval #15\n",
      "  norm of gradient = 9.538409218778289e-05\n",
      "Iteration # 6\n",
      "Function eval # 22\n",
      "  dual is  1.56466424222\n",
      "Function eval # 23\n",
      "  dual is  1.56466423416\n",
      "Grad eval #16\n",
      "  norm of gradient = 7.377016865671103e-05\n",
      "Function eval # 24\n",
      "  dual is  1.56466422224\n",
      "Grad eval #17\n",
      "  norm of gradient = 1.6959382098134323e-05\n",
      "Iteration # 7\n",
      "Function eval # 25\n",
      "  dual is  1.56466422224\n",
      "Function eval # 26\n",
      "  dual is  1.56466422199\n",
      "Grad eval #18\n",
      "  norm of gradient = 1.3067243115138425e-05\n",
      "Function eval # 27\n",
      "  dual is  1.56466422161\n",
      "Grad eval #19\n",
      "  norm of gradient = 2.0904077037701047e-10\n",
      "Iteration # 8\n",
      "Function eval # 28\n",
      "  dual is  1.56466422161\n",
      "Optimization terminated successfully.\n",
      "         Current function value: 1.564664\n",
      "         Iterations: 4\n",
      "         Function evaluations: 9\n",
      "         Gradient evaluations: 9\n"
     ]
    },
    {
     "data": {
      "text/plain": [
       "MinDivergenceModel(algorithm='CG',\n",
       "          features=[<function f0 at 0x11719aea0>, <function f1 at 0x11719a158>, <function f2 at 0x11719a048>],\n",
       "          matrix_format='csr_matrix', prior_log_probs=None,\n",
       "          samplespace=['dans', 'en', 'à', 'au cours de', 'pendant'],\n",
       "          vectorized=False, verbose=True)"
      ]
     },
     "execution_count": 38,
     "metadata": {},
     "output_type": "execute_result"
    }
   ],
   "source": [
    "# Fit the model\n",
    "model.fit(np.array(K, ndmin=2))"
   ]
  },
  {
   "cell_type": "code",
   "execution_count": 39,
   "metadata": {},
   "outputs": [
    {
     "data": {
      "text/plain": [
       "matrix([[ 1.,  1.,  1.,  1.,  1.],\n",
       "        [ 1.,  1.,  0.,  0.,  0.],\n",
       "        [ 1.,  0.,  1.,  0.,  0.]])"
      ]
     },
     "execution_count": 39,
     "metadata": {},
     "output_type": "execute_result"
    }
   ],
   "source": [
    "model.F.todense()"
   ]
  },
  {
   "cell_type": "code",
   "execution_count": 40,
   "metadata": {},
   "outputs": [
    {
     "name": "stdout",
     "output_type": "stream",
     "text": [
      "\n",
      "Fitted model parameters are:\n",
      "[ -8.78685714e-16  -4.71177354e-01   4.79745017e-01]\n"
     ]
    }
   ],
   "source": [
    "# Output the distribution\n",
    "print(\"\\nFitted model parameters are:\\n\" + str(model.params))"
   ]
  },
  {
   "cell_type": "code",
   "execution_count": 41,
   "metadata": {},
   "outputs": [
    {
     "name": "stdout",
     "output_type": "stream",
     "text": [
      "\n",
      "Fitted distribution is:\n",
      "\tx = dans:           p(x) = 0.192168808772\n",
      "\tx = en:             p(x) = 0.118941191424\n",
      "\tx = à:              p(x) = 0.307831191302\n",
      "\tx = au cours de:    p(x) = 0.190529404251\n",
      "\tx = pendant:        p(x) = 0.190529404251\n"
     ]
    }
   ],
   "source": [
    "print(\"\\nFitted distribution is:\")\n",
    "p = model.probdist()\n",
    "for j in range(len(model.samplespace)):\n",
    "    x = model.samplespace[j]\n",
    "    print(\"\\tx = %-15s\" %(x + \":\",) + \" p(x) = \"+str(p[j]))"
   ]
  },
  {
   "cell_type": "code",
   "execution_count": 42,
   "metadata": {},
   "outputs": [
    {
     "name": "stdout",
     "output_type": "stream",
     "text": [
      "\n",
      "Desired constraints:\n",
      "\tp['dans'] + p['en'] = 0.3\n",
      "\tp['dans'] + p['à']  = 0.5\n",
      "\n",
      "Actual expectations under the fitted model:\n",
      "\tp['dans'] + p['en'] = 0.311110000196\n",
      "\tp['dans'] + p['à']  = 0.500000000074\n"
     ]
    }
   ],
   "source": [
    "# Now show how well the constraints are satisfied:\n",
    "print()\n",
    "print(\"Desired constraints:\")\n",
    "print(\"\\tp['dans'] + p['en'] = 0.3\")\n",
    "print(\"\\tp['dans'] + p['à']  = 0.5\")\n",
    "print()\n",
    "print(\"Actual expectations under the fitted model:\")\n",
    "print(\"\\tp['dans'] + p['en'] =\", p[0] + p[1])\n",
    "print(\"\\tp['dans'] + p['à']  = \" + str(p[0]+p[2]))\n",
    "# (Or substitute \"x.encode('latin-1')\" if you have a primitive terminal.)"
   ]
  },
  {
   "cell_type": "code",
   "execution_count": 43,
   "metadata": {},
   "outputs": [
    {
     "data": {
      "text/plain": [
       "True"
      ]
     },
     "execution_count": 43,
     "metadata": {},
     "output_type": "execute_result"
    }
   ],
   "source": [
    "import numpy as np\n",
    "np.allclose(model.expectations(), K)"
   ]
  }
 ],
 "metadata": {
  "kernelspec": {
   "display_name": "Python 3",
   "language": "python",
   "name": "python3"
  },
  "language_info": {
   "codemirror_mode": {
    "name": "ipython",
    "version": 3
   },
   "file_extension": ".py",
   "mimetype": "text/x-python",
   "name": "python",
   "nbconvert_exporter": "python",
   "pygments_lexer": "ipython3",
   "version": "3.6.1"
  }
 },
 "nbformat": 4,
 "nbformat_minor": 2
}
