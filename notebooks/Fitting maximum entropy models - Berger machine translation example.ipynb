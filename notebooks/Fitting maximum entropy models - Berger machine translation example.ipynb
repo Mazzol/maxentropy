{
 "cells": [
  {
   "cell_type": "markdown",
   "metadata": {},
   "source": [
    "# Fitting maximum entropy models - Berger machine translation example"
   ]
  },
  {
   "cell_type": "markdown",
   "metadata": {},
   "source": [
    "## Example use of the maximum entropy module:\n",
    "\n",
    "Machine translation example -- English to French -- from the paper 'A\n",
    "maximum entropy approach to natural language processing' by Berger et\n",
    "al., 1996.\n",
    "\n",
    "Consider the translation of the English word 'in' into French.  We\n",
    "notice in a corpus of parallel texts the following facts:\n",
    "\n",
    "    (1)    p(dans) + p(en) + p(à) + p(au cours de) + p(pendant) = 1\n",
    "    (2)    p(dans) + p(en) = 3/10\n",
    "    (3)    p(dans) + p(à)  = 1/2\n",
    "\n",
    "This code finds the probability distribution with maximal entropy\n",
    "subject to these constraints.\n"
   ]
  },
  {
   "cell_type": "code",
   "execution_count": 1,
   "metadata": {},
   "outputs": [],
   "source": [
    "import maxentropy.skmaxent\n",
    "\n",
    "a_grave = u'\\u00e0'\n",
    "\n",
    "samplespace = ['dans', 'en', a_grave, 'au cours de', 'pendant']\n",
    "\n"
   ]
  },
  {
   "cell_type": "code",
   "execution_count": 2,
   "metadata": {},
   "outputs": [],
   "source": [
    "def f0(x):\n",
    "    return x in samplespace\n",
    "\n",
    "def f1(x):\n",
    "    return x=='dans' or x=='en'\n",
    "\n",
    "def f2(x):\n",
    "    return x=='dans' or x==a_grave\n",
    "\n",
    "f = [f0, f1, f2]"
   ]
  },
  {
   "cell_type": "code",
   "execution_count": 3,
   "metadata": {},
   "outputs": [
    {
     "name": "stdout",
     "output_type": "stream",
     "text": [
      "Computing feature 0 of 3 ...\n",
      "Computing feature 1 of 3 ...\n",
      "Computing feature 2 of 3 ...\n"
     ]
    }
   ],
   "source": [
    "model = maxentropy.skmaxent.MinDivergenceModel(f, samplespace, vectorized=False, verbose=True)"
   ]
  },
  {
   "cell_type": "code",
   "execution_count": 4,
   "metadata": {},
   "outputs": [],
   "source": [
    "# Now set the desired feature expectations\n",
    "K = [1.0, 0.3, 0.5]"
   ]
  },
  {
   "cell_type": "code",
   "execution_count": 5,
   "metadata": {},
   "outputs": [],
   "source": [
    "import numpy as np"
   ]
  },
  {
   "cell_type": "code",
   "execution_count": 6,
   "metadata": {},
   "outputs": [
    {
     "data": {
      "text/plain": [
       "array([[1. , 0.3, 0.5]])"
      ]
     },
     "execution_count": 6,
     "metadata": {},
     "output_type": "execute_result"
    }
   ],
   "source": [
    "np.array(K, ndmin=2)"
   ]
  },
  {
   "cell_type": "code",
   "execution_count": 7,
   "metadata": {},
   "outputs": [
    {
     "name": "stdout",
     "output_type": "stream",
     "text": [
      "Grad eval #0\n",
      "  norm of gradient = 0.1414213562373095\n",
      "Function eval # 0\n",
      "  dual is  1.6094379124341003\n",
      "Function eval # 1\n",
      "  dual is  1.5914375789899213\n",
      "Grad eval #1\n",
      "  norm of gradient = 0.11314687047891211\n",
      "Function eval # 2\n",
      "  dual is  1.559227944266887\n",
      "Grad eval #2\n",
      "  norm of gradient = 0.006971629366968201\n",
      "Iteration # 0\n",
      "Function eval # 3\n",
      "  dual is  1.559227944266887\n",
      "Function eval # 4\n",
      "  dual is  1.5591856277233611\n",
      "Grad eval #3\n",
      "  norm of gradient = 0.005172758674855188\n",
      "Function eval # 5\n",
      "  dual is  1.5591338601935893\n",
      "Grad eval #4\n",
      "  norm of gradient = 0.0008214255815072707\n",
      "Iteration # 1\n",
      "Function eval # 6\n",
      "  dual is  1.5591338601935893\n",
      "Function eval # 7\n",
      "  dual is  1.5591332526793276\n",
      "Grad eval #5\n",
      "  norm of gradient = 0.0006576606967423743\n",
      "Function eval # 8\n",
      "  dual is  1.5591321673085197\n",
      "Grad eval #6\n",
      "  norm of gradient = 3.6663277937352617e-06\n",
      "Iteration # 2\n",
      "Function eval # 9\n",
      "  dual is  1.5591321673085197\n",
      "Function eval # 10\n",
      "  dual is  1.5591321672964076\n",
      "Grad eval #7\n",
      "  norm of gradient = 2.942583870445164e-06\n",
      "Function eval # 11\n",
      "  dual is  1.5591321672745466\n",
      "Grad eval #8\n",
      "  norm of gradient = 4.688497360978039e-07\n",
      "Iteration # 3\n",
      "Function eval # 12\n",
      "  dual is  1.5591321672745466\n",
      "Function eval # 13\n",
      "  dual is  1.5591321672743543\n",
      "Grad eval #9\n",
      "  norm of gradient = 3.48505575389047e-07\n",
      "Function eval # 14\n",
      "  dual is  1.5591321672741163\n",
      "Grad eval #10\n",
      "  norm of gradient = 4.3767323023680994e-08\n",
      "Iteration # 4\n",
      "Function eval # 15\n",
      "  dual is  1.5591321672741163\n",
      "Function eval # 16\n",
      "  dual is  1.5591321672741145\n",
      "Grad eval #11\n",
      "  norm of gradient = 3.57145114882844e-08\n",
      "Function eval # 17\n",
      "  dual is  1.5591321672741119\n",
      "Grad eval #12\n",
      "  norm of gradient = 1.2332852310841672e-08\n",
      "Iteration # 5\n",
      "Function eval # 18\n",
      "  dual is  1.5591321672741119\n",
      "Function eval # 19\n",
      "  dual is  1.5591321672741119\n",
      "Grad eval #13\n",
      "  norm of gradient = 9.097139746669466e-09\n",
      "Function eval # 20\n",
      "  dual is  1.5591321672741119\n",
      "Grad eval #14\n",
      "  norm of gradient = 4.160633768057022e-09\n",
      "Iteration # 6\n",
      "Function eval # 21\n",
      "  dual is  1.5591321672741119\n",
      "Optimization terminated successfully.\n",
      "         Current function value: 1.559132\n",
      "         Iterations: 7\n",
      "         Function evaluations: 15\n",
      "         Gradient evaluations: 15\n"
     ]
    },
    {
     "data": {
      "text/plain": [
       "MinDivergenceModel(algorithm='CG',\n",
       "                   features=[<function f0 at 0x11c0231e0>,\n",
       "                             <function f1 at 0x11c023268>,\n",
       "                             <function f2 at 0x11c0232f0>],\n",
       "                   matrix_format='csr_matrix', prior_log_probs=None,\n",
       "                   samplespace=['dans', 'en', 'à', 'au cours de', 'pendant'],\n",
       "                   vectorized=False, verbose=True)"
      ]
     },
     "execution_count": 7,
     "metadata": {},
     "output_type": "execute_result"
    }
   ],
   "source": [
    "# Fit the model\n",
    "model.fit(np.array(K, ndmin=2))"
   ]
  },
  {
   "cell_type": "code",
   "execution_count": 14,
   "metadata": {},
   "outputs": [
    {
     "data": {
      "text/plain": [
       "matrix([[1., 1., 1., 1., 1.],\n",
       "        [1., 1., 0., 0., 0.],\n",
       "        [1., 0., 1., 0., 0.]])"
      ]
     },
     "execution_count": 14,
     "metadata": {},
     "output_type": "execute_result"
    }
   ],
   "source": [
    "model.F.todense()"
   ]
  },
  {
   "cell_type": "code",
   "execution_count": 15,
   "metadata": {},
   "outputs": [
    {
     "name": "stdout",
     "output_type": "stream",
     "text": [
      "\n",
      "Fitted model parameters are:\n",
      "[ 6.88841437e-16 -5.24869398e-01  4.87527722e-01]\n"
     ]
    }
   ],
   "source": [
    "# Output the distribution\n",
    "print(\"\\nFitted model parameters are:\\n\" + str(model.params))"
   ]
  },
  {
   "cell_type": "code",
   "execution_count": 16,
   "metadata": {},
   "outputs": [
    {
     "name": "stdout",
     "output_type": "stream",
     "text": [
      "\n",
      "Fitted distribution is:\n",
      "\tx = dans:           p(x) = 0.1858571548328559\n",
      "\tx = en:             p(x) = 0.11414284287637219\n",
      "\tx = à:              p(x) = 0.314142841693927\n",
      "\tx = au cours de:    p(x) = 0.1929285802984224\n",
      "\tx = pendant:        p(x) = 0.1929285802984224\n"
     ]
    }
   ],
   "source": [
    "print(\"\\nFitted distribution is:\")\n",
    "p = model.probdist()\n",
    "for j in range(len(model.samplespace)):\n",
    "    x = model.samplespace[j]\n",
    "    print(\"\\tx = %-15s\" %(x + \":\",) + \" p(x) = \"+str(p[j]))"
   ]
  },
  {
   "cell_type": "code",
   "execution_count": 17,
   "metadata": {},
   "outputs": [
    {
     "name": "stdout",
     "output_type": "stream",
     "text": [
      "\n",
      "Desired constraints:\n",
      "\tp['dans'] + p['en'] = 0.3\n",
      "\tp['dans'] + p['à']  = 0.5\n",
      "\n",
      "Actual expectations under the fitted model:\n",
      "\tp['dans'] + p['en'] = 0.2999999977092281\n",
      "\tp['dans'] + p['à']  = 0.49999999652678284\n"
     ]
    }
   ],
   "source": [
    "# Now show how well the constraints are satisfied:\n",
    "print()\n",
    "print(\"Desired constraints:\")\n",
    "print(\"\\tp['dans'] + p['en'] = 0.3\")\n",
    "print(\"\\tp['dans'] + p['à']  = 0.5\")\n",
    "print()\n",
    "print(\"Actual expectations under the fitted model:\")\n",
    "print(\"\\tp['dans'] + p['en'] =\", p[0] + p[1])\n",
    "print(\"\\tp['dans'] + p['à']  = \" + str(p[0]+p[2]))\n",
    "# (Or substitute \"x.encode('latin-1')\" if you have a primitive terminal.)"
   ]
  },
  {
   "cell_type": "code",
   "execution_count": 18,
   "metadata": {},
   "outputs": [
    {
     "data": {
      "text/plain": [
       "True"
      ]
     },
     "execution_count": 18,
     "metadata": {},
     "output_type": "execute_result"
    }
   ],
   "source": [
    "import numpy as np\n",
    "np.allclose(model.expectations(), K)"
   ]
  }
 ],
 "metadata": {
  "@webio": {
   "lastCommId": null,
   "lastKernelId": null
  },
  "kernelspec": {
   "display_name": "Python 3",
   "language": "python",
   "name": "python3"
  },
  "language_info": {
   "codemirror_mode": {
    "name": "ipython",
    "version": 3
   },
   "file_extension": ".py",
   "mimetype": "text/x-python",
   "name": "python",
   "nbconvert_exporter": "python",
   "pygments_lexer": "ipython3",
   "version": "3.7.3"
  }
 },
 "nbformat": 4,
 "nbformat_minor": 2
}
