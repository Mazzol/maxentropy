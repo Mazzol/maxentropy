{
 "cells": [
  {
   "cell_type": "markdown",
   "metadata": {},
   "source": [
    "# Fitting maximum entropy models - kangaroos example"
   ]
  },
  {
   "cell_type": "markdown",
   "metadata": {},
   "source": [
    "## Example use of the maximum entropy module:\n",
    "\n",
    "Gull and Skilling (1984) gave the following example, which they describe as a physicist's perversion of the formal mathemetical analysis of Shore and Johnson 1980 showing that maximizing the entropy function is required for logical consistency.\n",
    "\n",
    "Information:\n",
    "\n",
    "    (1)    A third of all kangaroos are blue-eyed\n",
    "    (2)    A quarter of all kangaroos are left-handed\n",
    "\n",
    "On the basis of this information alone, what proportion $x$ of kangaroos are both blue-eyed and left-handed?"
   ]
  },
  {
   "cell_type": "markdown",
   "metadata": {},
   "source": [
    "### Setup"
   ]
  },
  {
   "cell_type": "code",
   "execution_count": 1,
   "metadata": {
    "collapsed": true
   },
   "outputs": [],
   "source": [
    "import numpy as np\n",
    "import matplotlib.pyplot as plt\n",
    "import seaborn as sns\n",
    "%matplotlib inline"
   ]
  },
  {
   "cell_type": "markdown",
   "metadata": {},
   "source": [
    "<table>\n",
    "<tr><th></th><th>left-handed</th><th>right-handed</th><th>$\\sum$</th></tr>\n",
    "<tr><td>blue-eyed</td><td>$x$</td><td>?</td><td>$\\frac{1}{3}$</td></tr>\n",
    "<tr><td>green-eyed</td><td>?</td><td>?</td></tr>\n",
    "<tr><td>$\\sum$</td><td>$\\frac{1}{4}$</td><td></td><td>1</td></tr>\n",
    "</table>"
   ]
  },
  {
   "cell_type": "markdown",
   "metadata": {},
   "source": [
    "The normalization conditions imply that we have:"
   ]
  },
  {
   "cell_type": "markdown",
   "metadata": {},
   "source": [
    "<table>\n",
    "<tr><th></th><th>left-handed</th><th>right-handed</th><th>$\\sum$</th></tr>\n",
    "<tr><td>blue-eyed</td><td>$0 \\leq x \\leq \\frac{1}{4}$</td><td>$\\frac{1}{3} - x$</td><td>$\\frac{1}{3}$</td></tr>\n",
    "<tr><td>green-eyed</td><td>$\\frac{1}{4} - x$</td><td>$\\frac{5}{12} + x$</td><td>$\\frac{2}{3}$</td></tr>\n",
    "<tr><td>$\\sum$</td><td>$\\frac{1}{4}$</td><td>$\\frac{3}{4}$</td><td>1</td></tr>\n",
    "</table>"
   ]
  },
  {
   "cell_type": "markdown",
   "metadata": {},
   "source": [
    "parameterized in terms of $x$."
   ]
  },
  {
   "cell_type": "markdown",
   "metadata": {},
   "source": [
    "### Are handedness and eye colour independent?\n",
    "\n",
    "Most people would intuitively guess that $x = \\frac{1}{4} \\times \\frac{1}{3} = \\frac{1}{12}$. Why?"
   ]
  },
  {
   "cell_type": "markdown",
   "metadata": {},
   "source": [
    "Any other value than $x = 1 / 12$ would indicate that knowing the kangaroo's eye-colour tells us something about its handedness. But we have no information that there is a link, or in which direction any such link might be. So our intuition is that the most reasonable assignment assumes no link.\n",
    "\n",
    "Intuitively, this is the least informative choice, the flattest subject to the information we know. It is actually the choice that **maximizes entropy** of the probability distribution. Below we show this numerically."
   ]
  },
  {
   "cell_type": "markdown",
   "metadata": {},
   "source": [
    "### Entropy"
   ]
  },
  {
   "cell_type": "markdown",
   "metadata": {},
   "source": [
    "The \"information entropy\" $H(p)$ of a probability distribution $p$ is a measure of its disorder or flatness. For a discrete distribution $p$ it is defined as:\n",
    "$$\n",
    "H(p) = -\\sum p_i \\log(p_i)\n",
    "$$\n",
    "\n",
    "whenever $p_i > 0$."
   ]
  },
  {
   "cell_type": "code",
   "execution_count": 2,
   "metadata": {
    "collapsed": true
   },
   "outputs": [],
   "source": [
    "from scipy.stats import entropy"
   ]
  },
  {
   "cell_type": "markdown",
   "metadata": {},
   "source": [
    "What properties does it have?"
   ]
  },
  {
   "cell_type": "markdown",
   "metadata": {},
   "source": [
    "#### Example: a deterministic die (with no randomness)\n",
    "\n",
    "Suppose a die is rigged so it **always** comes up 1. Then it has this probability distribution:\n",
    "\n",
    "<table>\n",
    "<tr><th>$i$</th><th>1</th><th>2</th><th>3</th><th>4</th><th>5</th><th>6</th><th>$\\sum p_i$</th></tr>\n",
    "<tr><td>$p_i$</td><td>1</td><td>0</td><td>0</td><td>0</td><td>0</td><td>0</td><td>1</td></tr>\n",
    "</table>\n",
    "\n",
    "Its entropy is **zero**."
   ]
  },
  {
   "cell_type": "code",
   "execution_count": 3,
   "metadata": {},
   "outputs": [
    {
     "data": {
      "text/plain": [
       "0.0"
      ]
     },
     "execution_count": 3,
     "metadata": {},
     "output_type": "execute_result"
    }
   ],
   "source": [
    "p_rigged = np.zeros(6)\n",
    "p_rigged[0] = 1\n",
    "entropy(p_rigged)"
   ]
  },
  {
   "cell_type": "markdown",
   "metadata": {},
   "source": [
    "#### Example: fair die\n",
    "\n",
    "<table>\n",
    "<tr><th>$i$</th><th>1</th><th>2</th><th>3</th><th>4</th><th>5</th><th>6</th><th>$\\sum p_i$</th></tr>\n",
    "<tr><td>$p_i$</td><th>$\\frac{1}{6}$</th><th>$\\frac{1}{6}$</th><th>$\\frac{1}{6}$</th><th>$\\frac{1}{6}$</th><th>$\\frac{1}{6}$</th><th>$\\frac{1}{6}$</th><td>1</td></tr>\n",
    "</table>"
   ]
  },
  {
   "cell_type": "code",
   "execution_count": 4,
   "metadata": {},
   "outputs": [
    {
     "data": {
      "text/plain": [
       "1.791759469228055"
      ]
     },
     "execution_count": 4,
     "metadata": {},
     "output_type": "execute_result"
    }
   ],
   "source": [
    "p_fair = np.ones(6) / 6\n",
    "entropy(p_fair)"
   ]
  },
  {
   "cell_type": "markdown",
   "metadata": {},
   "source": [
    "#### Example: unfair die"
   ]
  },
  {
   "cell_type": "code",
   "execution_count": 5,
   "metadata": {},
   "outputs": [
    {
     "name": "stdout",
     "output_type": "stream",
     "text": [
      "[ 0.38461538  0.07692308  0.07692308  0.07692308  0.07692308  0.30769231]\n"
     ]
    }
   ],
   "source": [
    "p_unfair = np.ones(6)\n",
    "# Assign arbitrary values:\n",
    "p_unfair[0] = 5\n",
    "p_unfair[5] = 4\n",
    "p_unfair /= p_unfair.sum()   # normalize\n",
    "print(p_unfair)"
   ]
  },
  {
   "cell_type": "code",
   "execution_count": 6,
   "metadata": {},
   "outputs": [
    {
     "data": {
      "text/plain": [
       "1.5193826646423012"
      ]
     },
     "execution_count": 6,
     "metadata": {},
     "output_type": "execute_result"
    }
   ],
   "source": [
    "entropy(p_unfair)"
   ]
  },
  {
   "cell_type": "markdown",
   "metadata": {},
   "source": [
    "### Exercise: show that the fair die probability distribution has higher entropy than any other distribution (for any unfair die)"
   ]
  },
  {
   "cell_type": "markdown",
   "metadata": {},
   "source": [
    "Brute-force approach: try calculating entropies for each of, say, 1 million different assignments of $p_1,\\dots,p_6$ (normalized to sum to 1)."
   ]
  },
  {
   "cell_type": "code",
   "execution_count": 7,
   "metadata": {
    "collapsed": true
   },
   "outputs": [],
   "source": [
    "ps = np.random.uniform(size=(10**6, 6))"
   ]
  },
  {
   "cell_type": "code",
   "execution_count": 8,
   "metadata": {},
   "outputs": [
    {
     "data": {
      "text/plain": [
       "array([ 1.68725081,  1.7336915 ,  1.55416903, ...,  1.72126369,\n",
       "        1.75162778,  1.64898487])"
      ]
     },
     "execution_count": 8,
     "metadata": {},
     "output_type": "execute_result"
    }
   ],
   "source": [
    "entropies = entropy(ps.T)\n",
    "entropies"
   ]
  },
  {
   "cell_type": "code",
   "execution_count": 9,
   "metadata": {},
   "outputs": [
    {
     "data": {
      "text/plain": [
       "True"
      ]
     },
     "execution_count": 9,
     "metadata": {},
     "output_type": "execute_result"
    }
   ],
   "source": [
    "np.all(entropies < entropy(p_fair))"
   ]
  },
  {
   "cell_type": "markdown",
   "metadata": {},
   "source": [
    "### Back to kangaroos"
   ]
  },
  {
   "cell_type": "markdown",
   "metadata": {},
   "source": [
    "Recall this table of probabilities:"
   ]
  },
  {
   "cell_type": "markdown",
   "metadata": {},
   "source": [
    "<table>\n",
    "<tr><th></th><th>left-handed</th><th>right-handed</th><th>$\\sum$</th></tr>\n",
    "<tr><td>blue-eyed</td><td>$0 \\leq x \\leq \\frac{1}{4}$</td><td>$\\frac{1}{3} - x$</td><td>$\\frac{1}{3}$</td></tr>\n",
    "<tr><td>green-eyed</td><td>$\\frac{1}{4} - x$</td><td>$\\frac{5}{12} + x$</td><td>$\\frac{2}{3}$</td></tr>\n",
    "<tr><td>$\\sum$</td><td>$\\frac{1}{4}$</td><td>$\\frac{3}{4}$</td><td>1</td></tr>\n",
    "</table>"
   ]
  },
  {
   "cell_type": "markdown",
   "metadata": {},
   "source": [
    "Here is a function that returns the matrix of probabilities for a given $x$ value:"
   ]
  },
  {
   "cell_type": "code",
   "execution_count": 11,
   "metadata": {
    "collapsed": true
   },
   "outputs": [],
   "source": [
    "def kangaroo_prob_matrix(x):\n",
    "    assert 0 <= x <= 0.25\n",
    "    p = np.zeros((2, 2))\n",
    "    p[0, 0] = x\n",
    "    p[0, 1] = 1/3 - x\n",
    "    p[1, 0] = 1/4 - x\n",
    "    p[1, 1] = 5/12 + x\n",
    "    return p"
   ]
  },
  {
   "cell_type": "code",
   "execution_count": 12,
   "metadata": {},
   "outputs": [
    {
     "data": {
      "text/plain": [
       "array([[ 0.2       ,  0.13333333],\n",
       "       [ 0.05      ,  0.61666667]])"
      ]
     },
     "execution_count": 12,
     "metadata": {},
     "output_type": "execute_result"
    }
   ],
   "source": [
    "kangaroo_prob_matrix(0.2)"
   ]
  },
  {
   "cell_type": "code",
   "execution_count": 15,
   "metadata": {
    "collapsed": true
   },
   "outputs": [],
   "source": [
    "params = np.linspace(0, 0.25, num=100)\n",
    "entropies = [entropy(kangaroo_prob_matrix(x).flatten()) for x in params]"
   ]
  },
  {
   "cell_type": "markdown",
   "metadata": {},
   "source": [
    "We can determine the entropy-maximizing parameter $x$ empirically as:"
   ]
  },
  {
   "cell_type": "code",
   "execution_count": 16,
   "metadata": {},
   "outputs": [
    {
     "data": {
      "text/plain": [
       "0.083333333333333343"
      ]
     },
     "execution_count": 16,
     "metadata": {},
     "output_type": "execute_result"
    }
   ],
   "source": [
    "x_opt = params[np.argmax(entropies)]\n",
    "x_opt"
   ]
  },
  {
   "cell_type": "code",
   "execution_count": 17,
   "metadata": {},
   "outputs": [
    {
     "data": {
      "image/png": "[encoded data removed]",
      "text/plain": [
       "<matplotlib.figure.Figure at 0x11fd640f0>"
      ]
     },
     "metadata": {},
     "output_type": "display_data"
    }
   ],
   "source": [
    "plt.plot(params, entropies)\n",
    "plt.xlabel('$x$')\n",
    "plt.ylabel('entropy $H(p)$')\n",
    "plt.scatter(x_opt, np.max(entropies), color='red')\n",
    "plt.text(x_opt, np.max(entropies)+0.01, f'$x={x_opt:.3f}$',withdash=True)\n",
    "plt.title('Entropy $H(p)$ for different probability distributions $p$ parametrized by $x$');"
   ]
  },
  {
   "cell_type": "markdown",
   "metadata": {},
   "source": [
    "### Solution with maxentropy package"
   ]
  },
  {
   "cell_type": "code",
   "execution_count": 18,
   "metadata": {
    "collapsed": true
   },
   "outputs": [],
   "source": [
    "from itertools import product\n",
    "\n",
    "samplespace = list(product(['left-handed', 'right-handed'], ['blue-eyed', 'green-eyed']))"
   ]
  },
  {
   "cell_type": "code",
   "execution_count": 19,
   "metadata": {},
   "outputs": [
    {
     "data": {
      "text/plain": [
       "[('left-handed', 'blue-eyed'),\n",
       " ('left-handed', 'green-eyed'),\n",
       " ('right-handed', 'blue-eyed'),\n",
       " ('right-handed', 'green-eyed')]"
      ]
     },
     "execution_count": 19,
     "metadata": {},
     "output_type": "execute_result"
    }
   ],
   "source": [
    "samplespace"
   ]
  },
  {
   "cell_type": "code",
   "execution_count": 20,
   "metadata": {
    "collapsed": true
   },
   "outputs": [],
   "source": [
    "def f0(x):\n",
    "    return x in samplespace\n",
    "\n",
    "def f1(x):\n",
    "    return x[1] == 'blue-eyed'\n",
    "\n",
    "def f2(x):\n",
    "    return x[0] == 'left-handed'\n",
    "\n",
    "f = [f0, f1, f2]"
   ]
  },
  {
   "cell_type": "code",
   "execution_count": 23,
   "metadata": {
    "collapsed": true
   },
   "outputs": [],
   "source": [
    "from maxentropy.skmaxent import MinDivergenceModel\n",
    "model = MinDivergenceModel(f, samplespace, vectorized=False, verbose=False)"
   ]
  },
  {
   "cell_type": "code",
   "execution_count": 24,
   "metadata": {},
   "outputs": [
    {
     "data": {
      "text/plain": [
       "array([[ 1.,  1.,  1.,  1.],\n",
       "       [ 1.,  0.,  1.,  0.],\n",
       "       [ 1.,  1.,  0.,  0.]])"
      ]
     },
     "execution_count": 24,
     "metadata": {},
     "output_type": "execute_result"
    }
   ],
   "source": [
    "model.F.A"
   ]
  },
  {
   "cell_type": "code",
   "execution_count": 25,
   "metadata": {
    "collapsed": true
   },
   "outputs": [],
   "source": [
    "# Now set the desired feature expectations\n",
    "K = np.array([1., 1./3, 1./4]).reshape(1, 3)"
   ]
  },
  {
   "cell_type": "code",
   "execution_count": 26,
   "metadata": {},
   "outputs": [
    {
     "data": {
      "text/plain": [
       "MinDivergenceModel(algorithm='CG',\n",
       "          features=[<function f0 at 0x1233412f0>, <function f1 at 0x123341400>, <function f2 at 0x123341598>],\n",
       "          matrix_format='csr_matrix', prior_log_probs=None,\n",
       "          samplespace=[('left-handed', 'blue-eyed'), ('left-handed', 'green-eyed'), ('right-handed', 'blue-eyed'), ('right-handed', 'green-eyed')],\n",
       "          vectorized=False, verbose=False)"
      ]
     },
     "execution_count": 26,
     "metadata": {},
     "output_type": "execute_result"
    }
   ],
   "source": [
    "# Fit the model\n",
    "model.fit(K)"
   ]
  },
  {
   "cell_type": "code",
   "execution_count": 27,
   "metadata": {},
   "outputs": [
    {
     "data": {
      "text/plain": [
       "matrix([[ 1.,  1.,  1.,  1.],\n",
       "        [ 1.,  0.,  1.,  0.],\n",
       "        [ 1.,  1.,  0.,  0.]])"
      ]
     },
     "execution_count": 27,
     "metadata": {},
     "output_type": "execute_result"
    }
   ],
   "source": [
    "model.F.todense()"
   ]
  },
  {
   "cell_type": "code",
   "execution_count": 28,
   "metadata": {},
   "outputs": [
    {
     "data": {
      "text/plain": [
       "array([ 0.        , -0.69314717, -1.0986123 ])"
      ]
     },
     "execution_count": 28,
     "metadata": {},
     "output_type": "execute_result"
    }
   ],
   "source": [
    "model.params"
   ]
  },
  {
   "cell_type": "code",
   "execution_count": 30,
   "metadata": {},
   "outputs": [
    {
     "data": {
      "text/plain": [
       "array([ 0.08333333,  0.16666667,  0.25      ,  0.5       ])"
      ]
     },
     "execution_count": 30,
     "metadata": {},
     "output_type": "execute_result"
    }
   ],
   "source": [
    "model.probdist()"
   ]
  },
  {
   "cell_type": "code",
   "execution_count": 31,
   "metadata": {},
   "outputs": [
    {
     "data": {
      "text/plain": [
       "True"
      ]
     },
     "execution_count": 31,
     "metadata": {},
     "output_type": "execute_result"
    }
   ],
   "source": [
    "np.allclose(K, model.expectations())"
   ]
  },
  {
   "cell_type": "code",
   "execution_count": 32,
   "metadata": {},
   "outputs": [
    {
     "name": "stdout",
     "output_type": "stream",
     "text": [
      "\n",
      "Fitted model parameters are:\n",
      "[ 0.         -0.69314717 -1.0986123 ]\n",
      "The fitted distribution is:\n",
      "\tx = ('left-handed', 'blue-eyed') \tp(x) = 0.0833\n",
      "\tx = ('left-handed', 'green-eyed') \tp(x) = 0.1667\n",
      "\tx = ('right-handed', 'blue-eyed') \tp(x) = 0.2500\n",
      "\tx = ('right-handed', 'green-eyed') \tp(x) = 0.5000\n"
     ]
    }
   ],
   "source": [
    "# Output the distribution\n",
    "print(\"\\nFitted model parameters are:\\n\" + str(model.params))\n",
    "print(\"The fitted distribution is:\")\n",
    "model.show_dist()"
   ]
  },
  {
   "cell_type": "code",
   "execution_count": 33,
   "metadata": {},
   "outputs": [
    {
     "data": {
      "text/plain": [
       "array([ 1.        ,  0.33333333,  0.25      ])"
      ]
     },
     "execution_count": 33,
     "metadata": {},
     "output_type": "execute_result"
    }
   ],
   "source": [
    "model.expectations()"
   ]
  },
  {
   "cell_type": "code",
   "execution_count": 35,
   "metadata": {},
   "outputs": [
    {
     "data": {
      "text/plain": [
       "True"
      ]
     },
     "execution_count": 35,
     "metadata": {},
     "output_type": "execute_result"
    }
   ],
   "source": [
    "np.allclose(x_opt, model.probdist()[0])"
   ]
  },
  {
   "cell_type": "code",
   "execution_count": 36,
   "metadata": {},
   "outputs": [
    {
     "data": {
      "text/plain": [
       "1.1988493129136213"
      ]
     },
     "execution_count": 36,
     "metadata": {},
     "output_type": "execute_result"
    }
   ],
   "source": [
    "model.entropydual()"
   ]
  },
  {
   "cell_type": "code",
   "execution_count": 37,
   "metadata": {},
   "outputs": [
    {
     "data": {
      "text/plain": [
       "array([[ 0.08333333,  0.25      ],\n",
       "       [ 0.16666667,  0.5       ]])"
      ]
     },
     "execution_count": 37,
     "metadata": {},
     "output_type": "execute_result"
    }
   ],
   "source": [
    "model.probdist().reshape(2, 2).T"
   ]
  },
  {
   "cell_type": "code",
   "execution_count": 38,
   "metadata": {},
   "outputs": [
    {
     "data": {
      "text/plain": [
       "True"
      ]
     },
     "execution_count": 38,
     "metadata": {},
     "output_type": "execute_result"
    }
   ],
   "source": [
    "np.allclose(model.probdist().sum(), 1)"
   ]
  },
  {
   "cell_type": "code",
   "execution_count": 39,
   "metadata": {},
   "outputs": [
    {
     "data": {
      "text/plain": [
       "array([[ 0.08333333,  0.25      ],\n",
       "       [ 0.16666667,  0.5       ]])"
      ]
     },
     "execution_count": 39,
     "metadata": {},
     "output_type": "execute_result"
    }
   ],
   "source": [
    "kangaroo_prob_matrix(x_opt)"
   ]
  },
  {
   "cell_type": "code",
   "execution_count": 40,
   "metadata": {},
   "outputs": [
    {
     "data": {
      "image/png": "[encoded data removed]",
      "text/plain": [
       "<matplotlib.figure.Figure at 0x1233fb208>"
      ]
     },
     "metadata": {},
     "output_type": "display_data"
    }
   ],
   "source": [
    "g = sns.barplot(np.arange(len(samplespace)), model.probdist())\n",
    "g.set_xticklabels(samplespace, rotation=30);"
   ]
  },
  {
   "cell_type": "code",
   "execution_count": 41,
   "metadata": {},
   "outputs": [
    {
     "data": {
      "text/plain": [
       "<matplotlib.axes._subplots.AxesSubplot at 0x123695dd8>"
      ]
     },
     "execution_count": 41,
     "metadata": {},
     "output_type": "execute_result"
    },
    {
     "data": {
      "image/png": "[encoded data removed]",
      "text/plain": [
       "<matplotlib.figure.Figure at 0x123564320>"
      ]
     },
     "metadata": {},
     "output_type": "display_data"
    }
   ],
   "source": [
    "sns.heatmap(kangaroo_prob_matrix(x_opt), annot=True)"
   ]
  }
 ],
 "metadata": {
  "kernelspec": {
   "display_name": "Python 3",
   "language": "python",
   "name": "python3"
  },
  "language_info": {
   "codemirror_mode": {
    "name": "ipython",
    "version": 3
   },
   "file_extension": ".py",
   "mimetype": "text/x-python",
   "name": "python",
   "nbconvert_exporter": "python",
   "pygments_lexer": "ipython3",
   "version": "3.6.1"
  }
 },
 "nbformat": 4,
 "nbformat_minor": 2
}
