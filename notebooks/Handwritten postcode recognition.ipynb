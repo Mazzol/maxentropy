{
 "cells": [
  {
   "cell_type": "markdown",
   "metadata": {},
   "source": [
    "# Bayesian inference & machine learning example: handwritten postcode recognition\n",
    "\n",
    "France's La Poste has used automated sorting since 1964."
   ]
  },
  {
   "cell_type": "markdown",
   "metadata": {},
   "source": [
    "A sample of postcodes:\n",
    "- 2000\n",
    "- 3122\n",
    "- 4350\n",
    "- A-1220 (Vienna, Austria)\n",
    "- Tsuen Wan (Hong Kong): no postcodes in HK\n",
    "- 02138 (Cambridge, MA)\n",
    "- EC1V 4AD (London)\n",
    "- 8007 (PO boxes in Collins Street West)\n",
    "- 2570 (belongs to 22 towns and suburbs around Camden, NSW, according to Wikipedia)"
   ]
  },
  {
   "cell_type": "markdown",
   "metadata": {},
   "source": [
    "What prior information?\n",
    "\n",
    "- Do all Australian postcodes have 4 digits? Yes.\n",
    "- What range? 0200 to 9944\n",
    "- What proportion of mail our system sees is for Australia versus overseas? 80% (assumed)\n",
    "- 25% (assumed) of all mail goes to these 10 postcodes: 2000, 2001, 3000, 3001, 4000, 4001, 5000, 5001, 6000, 6001.\n",
    "- What population for each postcode? (and how to handle this when e.g. Paramatta NSW has 2150 for street addresses and 2124 for postcodes). If we don't have population info by postcode, how about using a prior with state population data?\n",
    "   - NSW: postcodes 1000-1999 (PO boxes), 2000-2599, 2620-2899, 2921-2999\n",
    "   - ACT: 0200-0299 (PO boxes), 2600-2619, 2900-2920\n",
    "   - VIC: 3000-3999, 8000-8999 (PO boxes)\n",
    "   - QLD: 4000-4999, 9000-9999 (PO boxes)\n",
    "   - SA: 5000-5799, 5800-5999 (PO boxes)\n",
    "   - WA 6000-6797, 6800-6999 (PO boxes)\n",
    "   - TAS: 7000-7799, 7800-7999 (PO boxes)\n",
    "   - NT: 0800-0899, 0900-0999 (PO boxes)"
   ]
  },
  {
   "cell_type": "markdown",
   "metadata": {},
   "source": [
    "### How do we encode this prior information for machine learning purposes?"
   ]
  },
  {
   "cell_type": "code",
   "execution_count": 1,
   "metadata": {
    "collapsed": true
   },
   "outputs": [],
   "source": [
    "postcodes_by_state = dict((\n",
    "    ('Australian Capital Territory', set(range(2600, 2620)) | set(range(2900, 2920))),\n",
    "    ('New South Wales', set(range(2000, 3000)) - set(range(2600, 2620)) - set(range(2900, 2920))),\n",
    "    ('Victoria', set(range(3000, 4000))),\n",
    "    ('Queensland', set(range(4000, 5000))),\n",
    "    ('South Australia', set(range(5000, 5800))),\n",
    "    ('Western Australia', set(range(6000, 6798))),\n",
    "    ('Tasmania', set(range(7000, 7800))),\n",
    "    ('Northern Territory', set(range(800, 900)))\n",
    "))"
   ]
  },
  {
   "cell_type": "markdown",
   "metadata": {},
   "source": [
    "### Goal: construct a prior $p(\\textrm{postcode})$ over all 4-digit postcodes, where 0 represents invalid / missing / international."
   ]
  },
  {
   "cell_type": "markdown",
   "metadata": {},
   "source": [
    "We will start by using state populations as a proxy for really knowing the proportion of mail sent to each postcode. (If we obtain more data, we can update and improve our model by applying Bayes' theorem later.)"
   ]
  },
  {
   "cell_type": "markdown",
   "metadata": {},
   "source": [
    "#### State populations"
   ]
  },
  {
   "cell_type": "code",
   "execution_count": 2,
   "metadata": {
    "collapsed": true
   },
   "outputs": [],
   "source": [
    "import pandas as pd"
   ]
  },
  {
   "cell_type": "code",
   "execution_count": 3,
   "metadata": {
    "collapsed": true
   },
   "outputs": [],
   "source": [
    "def fetch_state_populations():\n",
    "    url = 'http://www.ausstats.abs.gov.au/Ausstats/subscriber.nsf/0/D52DEAAFCEDF7B2ACA2580EB00133359/$File/31010do001_201609.xls'\n",
    "\n",
    "    state_populations = pd.read_excel(url, sheetname='Table_8', skiprows=6,\n",
    "                  names=['State', 'Population', '%'])\n",
    "\n",
    "    state_populations.set_index('State', inplace=True)\n",
    "\n",
    "    drop_row_idx = list(state_populations.index).index('Other Territories')\n",
    "\n",
    "    state_populations.drop(state_populations.index[drop_row_idx:], inplace=True)\n",
    "\n",
    "    state_populations['Population'] = state_populations['Population'].astype(int)\n",
    "    # state_populations.to_hdf('state_populations.h5', key='populations')\n",
    "    return state_populations"
   ]
  },
  {
   "cell_type": "code",
   "execution_count": 4,
   "metadata": {},
   "outputs": [],
   "source": [
    "state_populations = pd.read_hdf('state_populations.h5')"
   ]
  },
  {
   "cell_type": "code",
   "execution_count": 5,
   "metadata": {},
   "outputs": [
    {
     "data": {
      "text/html": [
       "<div>\n",
       "<table border=\"1\" class=\"dataframe\">\n",
       "  <thead>\n",
       "    <tr style=\"text-align: right;\">\n",
       "      <th></th>\n",
       "      <th>Population</th>\n",
       "      <th>%</th>\n",
       "    </tr>\n",
       "    <tr>\n",
       "      <th>State</th>\n",
       "      <th></th>\n",
       "      <th></th>\n",
       "    </tr>\n",
       "  </thead>\n",
       "  <tbody>\n",
       "    <tr>\n",
       "      <th>New South Wales</th>\n",
       "      <td>7757843</td>\n",
       "      <td>32.0</td>\n",
       "    </tr>\n",
       "    <tr>\n",
       "      <th>Victoria</th>\n",
       "      <td>6100877</td>\n",
       "      <td>25.2</td>\n",
       "    </tr>\n",
       "    <tr>\n",
       "      <th>Queensland</th>\n",
       "      <td>4860448</td>\n",
       "      <td>20.1</td>\n",
       "    </tr>\n",
       "    <tr>\n",
       "      <th>South Australia</th>\n",
       "      <td>1710804</td>\n",
       "      <td>7.1</td>\n",
       "    </tr>\n",
       "    <tr>\n",
       "      <th>Western Australia</th>\n",
       "      <td>2623164</td>\n",
       "      <td>10.8</td>\n",
       "    </tr>\n",
       "    <tr>\n",
       "      <th>Tasmania</th>\n",
       "      <td>519783</td>\n",
       "      <td>2.1</td>\n",
       "    </tr>\n",
       "    <tr>\n",
       "      <th>Northern Territory</th>\n",
       "      <td>245657</td>\n",
       "      <td>1.0</td>\n",
       "    </tr>\n",
       "    <tr>\n",
       "      <th>Australian Capital Territory</th>\n",
       "      <td>398349</td>\n",
       "      <td>1.6</td>\n",
       "    </tr>\n",
       "  </tbody>\n",
       "</table>\n",
       "</div>"
      ],
      "text/plain": [
       "                              Population     %\n",
       "State                                         \n",
       "New South Wales                  7757843  32.0\n",
       "Victoria                         6100877  25.2\n",
       "Queensland                       4860448  20.1\n",
       "South Australia                  1710804   7.1\n",
       "Western Australia                2623164  10.8\n",
       "Tasmania                          519783   2.1\n",
       "Northern Territory                245657   1.0\n",
       "Australian Capital Territory      398349   1.6"
      ]
     },
     "execution_count": 5,
     "metadata": {},
     "output_type": "execute_result"
    }
   ],
   "source": [
    "state_populations"
   ]
  },
  {
   "cell_type": "markdown",
   "metadata": {},
   "source": [
    "These are the desired feature expectations for each state."
   ]
  },
  {
   "cell_type": "code",
   "execution_count": 6,
   "metadata": {},
   "outputs": [
    {
     "data": {
      "text/plain": [
       "99.900000000000006"
      ]
     },
     "execution_count": 6,
     "metadata": {},
     "output_type": "execute_result"
    }
   ],
   "source": [
    "state_populations['%'].sum()"
   ]
  },
  {
   "cell_type": "markdown",
   "metadata": {},
   "source": [
    "(This excludes the other territories, like Norfolk Island. Ignore this for now.)"
   ]
  },
  {
   "cell_type": "markdown",
   "metadata": {},
   "source": [
    "### How to incorporate this?"
   ]
  },
  {
   "cell_type": "markdown",
   "metadata": {},
   "source": [
    "... to model the probability of e.g. $p(\\textrm{postcode}=3122)$?"
   ]
  },
  {
   "cell_type": "code",
   "execution_count": 7,
   "metadata": {
    "collapsed": true
   },
   "outputs": [],
   "source": [
    "def prior_state(state):\n",
    "    return state_populations['%'].loc[state] / 100"
   ]
  },
  {
   "cell_type": "code",
   "execution_count": 8,
   "metadata": {},
   "outputs": [
    {
     "data": {
      "text/plain": [
       "0.32000000000000001"
      ]
     },
     "execution_count": 8,
     "metadata": {},
     "output_type": "execute_result"
    }
   ],
   "source": [
    "prior_state('New South Wales')"
   ]
  },
  {
   "cell_type": "markdown",
   "metadata": {},
   "source": [
    "Now we have a prior p(state)."
   ]
  },
  {
   "cell_type": "markdown",
   "metadata": {},
   "source": [
    "### Bayes theorem:"
   ]
  },
  {
   "cell_type": "markdown",
   "metadata": {},
   "source": [
    "$p(\\textrm{postcode}) = \\sum_{\\textrm{all states}} p(\\textrm{postcode | state}) p(\\textrm{state})$"
   ]
  },
  {
   "cell_type": "markdown",
   "metadata": {},
   "source": [
    "### Exercise:\n",
    "\n",
    "Assuming you have a function `prior_postcode_given_state(postcode, state)`, implement this as a function `prior_postcode(postcode)`."
   ]
  },
  {
   "cell_type": "code",
   "execution_count": 9,
   "metadata": {},
   "outputs": [
    {
     "data": {
      "text/plain": [
       "['New South Wales',\n",
       " 'Victoria',\n",
       " 'Queensland',\n",
       " 'South Australia',\n",
       " 'Western Australia',\n",
       " 'Tasmania',\n",
       " 'Northern Territory',\n",
       " 'Australian Capital Territory']"
      ]
     },
     "execution_count": 9,
     "metadata": {},
     "output_type": "execute_result"
    }
   ],
   "source": [
    "all_states = list(state_populations.index)\n",
    "all_states"
   ]
  },
  {
   "cell_type": "code",
   "execution_count": 10,
   "metadata": {},
   "outputs": [
    {
     "data": {
      "text/plain": [
       "0.016"
      ]
     },
     "execution_count": 10,
     "metadata": {},
     "output_type": "execute_result"
    }
   ],
   "source": [
    "prior_state('Australian Capital Territory')"
   ]
  },
  {
   "cell_type": "code",
   "execution_count": 11,
   "metadata": {
    "collapsed": true
   },
   "outputs": [],
   "source": [
    "def prior_postcode(postcode):\n",
    "    p = 0.0\n",
    "    for state in all_states:\n",
    "        p += prior_postcode_given_state(postcode, state) * prior_state(state)\n",
    "    assert p <= 1\n",
    "    return p"
   ]
  },
  {
   "cell_type": "markdown",
   "metadata": {},
   "source": [
    "### Exercise:\n",
    "\n",
    "- Write a function `prior_postcode_given_state(postcode, state)` that assigns equal probability to each valid postcode in the corresponding state (or 0 probability for the wrong state)."
   ]
  },
  {
   "cell_type": "code",
   "execution_count": 12,
   "metadata": {
    "collapsed": true
   },
   "outputs": [],
   "source": [
    "def prior_postcode_given_state(postcode, state):\n",
    "    postcodes = postcodes_by_state[state]\n",
    "    return 1 / len(postcodes) if postcode in postcodes else 0"
   ]
  },
  {
   "cell_type": "code",
   "execution_count": 13,
   "metadata": {},
   "outputs": [
    {
     "data": {
      "text/plain": [
       "0.001"
      ]
     },
     "execution_count": 13,
     "metadata": {},
     "output_type": "execute_result"
    }
   ],
   "source": [
    "prior_postcode_given_state(3122, 'Victoria')"
   ]
  },
  {
   "cell_type": "code",
   "execution_count": 14,
   "metadata": {},
   "outputs": [
    {
     "data": {
      "text/plain": [
       "0.000252"
      ]
     },
     "execution_count": 14,
     "metadata": {},
     "output_type": "execute_result"
    }
   ],
   "source": [
    "prior_postcode(3122)"
   ]
  },
  {
   "cell_type": "markdown",
   "metadata": {},
   "source": [
    "## Maximum entropy models: the easy way\n",
    "\n",
    "Above we informally constructed a prior model that was as *flat* (uninformative) as possible subject to the constraint that the proportion of mail being delivered to a postcode is equal to the state's population, divided by the number of postcodes for that state.\n",
    "\n",
    "Now we show how to derive such prior models in a more principled way using the `scikit-maxentropy` module."
   ]
  },
  {
   "cell_type": "code",
   "execution_count": 217,
   "metadata": {
    "collapsed": true
   },
   "outputs": [],
   "source": [
    "import numpy as np\n",
    "samplespace = np.arange(10000, dtype=np.uint16)"
   ]
  },
  {
   "cell_type": "markdown",
   "metadata": {},
   "source": [
    "Define 0000 as \"other\": i.e. all international postcodes, all those addresses missing a postcode, etc."
   ]
  },
  {
   "cell_type": "code",
   "execution_count": 16,
   "metadata": {},
   "outputs": [
    {
     "data": {
      "text/plain": [
       "array([   0,    1,    2, ..., 9997, 9998, 9999], dtype=uint16)"
      ]
     },
     "execution_count": 16,
     "metadata": {},
     "output_type": "execute_result"
    }
   ],
   "source": [
    "samplespace"
   ]
  },
  {
   "cell_type": "code",
   "execution_count": 17,
   "metadata": {},
   "outputs": [],
   "source": [
    "from maxentropy.skmaxent import MaxEntTransformer, MaxEntPrior"
   ]
  },
  {
   "cell_type": "code",
   "execution_count": 222,
   "metadata": {
    "collapsed": true
   },
   "outputs": [],
   "source": [
    "def is_valid(postcodes):\n",
    "    return [200 <= postcode < 10000 for postcode in postcodes]"
   ]
  },
  {
   "cell_type": "code",
   "execution_count": 223,
   "metadata": {},
   "outputs": [],
   "source": [
    "def is_nsw_street(postcodes):\n",
    "    return [postcode in postcodes_by_state['New South Wales'] for postcode in postcodes]"
   ]
  },
  {
   "cell_type": "code",
   "execution_count": 224,
   "metadata": {
    "collapsed": true
   },
   "outputs": [],
   "source": [
    "def is_act_street(postcodes):\n",
    "    return [postcode in postcodes_by_state['Australian Capital Territory'] for postcode in postcodes]"
   ]
  },
  {
   "cell_type": "code",
   "execution_count": 225,
   "metadata": {
    "collapsed": true
   },
   "outputs": [],
   "source": [
    "def is_vic_street(postcodes):\n",
    "    return [postcode in postcodes_by_state['Victoria'] for postcode in postcodes]"
   ]
  },
  {
   "cell_type": "code",
   "execution_count": 226,
   "metadata": {
    "collapsed": true
   },
   "outputs": [],
   "source": [
    "def is_qld_street(postcodes):\n",
    "    return [postcode in postcodes_by_state['Queensland'] for postcode in postcodes]"
   ]
  },
  {
   "cell_type": "code",
   "execution_count": 227,
   "metadata": {
    "collapsed": true
   },
   "outputs": [],
   "source": [
    "def is_sa_street(postcodes):\n",
    "    return [postcode in postcodes_by_state['South Australia'] for postcode in postcodes]"
   ]
  },
  {
   "cell_type": "code",
   "execution_count": 228,
   "metadata": {
    "collapsed": true
   },
   "outputs": [],
   "source": [
    "def is_wa_street(postcodes):\n",
    "    return [postcode in postcodes_by_state['Western Australia'] for postcode in postcodes]"
   ]
  },
  {
   "cell_type": "code",
   "execution_count": 229,
   "metadata": {
    "collapsed": true
   },
   "outputs": [],
   "source": [
    "def is_tas_street(postcodes):\n",
    "    return [postcode in postcodes_by_state['Tasmania'] for postcode in postcodes]"
   ]
  },
  {
   "cell_type": "code",
   "execution_count": 230,
   "metadata": {
    "collapsed": true
   },
   "outputs": [],
   "source": [
    "def is_nt_street(postcodes):\n",
    "    return [postcode in postcodes_by_state['Northern Territory'] for postcode in postcodes]"
   ]
  },
  {
   "cell_type": "code",
   "execution_count": 231,
   "metadata": {
    "collapsed": true
   },
   "outputs": [],
   "source": [
    "features = [is_valid,\n",
    "            is_nsw_street, is_act_street, is_vic_street, is_qld_street,\n",
    "            is_sa_street, is_wa_street, is_tas_street, is_nt_street]"
   ]
  },
  {
   "cell_type": "code",
   "execution_count": 232,
   "metadata": {
    "collapsed": true
   },
   "outputs": [],
   "source": [
    "transformer = MaxEntTransformer(features, samplespace, format='ndarray', verbose=False)"
   ]
  },
  {
   "cell_type": "code",
   "execution_count": 234,
   "metadata": {},
   "outputs": [
    {
     "data": {
      "text/plain": [
       "array([[ 2000],\n",
       "       [ 3122],\n",
       "       [90210],\n",
       "       [ 8007],\n",
       "       [ 5001]])"
      ]
     },
     "execution_count": 234,
     "metadata": {},
     "output_type": "execute_result"
    }
   ],
   "source": [
    "X = np.array([[2000, 3122, 90210, 8007, 5001]]).T\n",
    "X"
   ]
  },
  {
   "cell_type": "code",
   "execution_count": 235,
   "metadata": {},
   "outputs": [
    {
     "data": {
      "text/plain": [
       "array([[ 1.,  1.,  0.,  0.,  0.,  0.,  0.,  0.,  0.],\n",
       "       [ 1.,  0.,  0.,  1.,  0.,  0.,  0.,  0.,  0.],\n",
       "       [ 0.,  0.,  0.,  0.,  0.,  0.,  0.,  0.,  0.],\n",
       "       [ 1.,  0.,  0.,  0.,  0.,  0.,  0.,  0.,  0.],\n",
       "       [ 1.,  0.,  0.,  0.,  0.,  1.,  0.,  0.,  0.]])"
      ]
     },
     "execution_count": 235,
     "metadata": {},
     "output_type": "execute_result"
    }
   ],
   "source": [
    "transformer.transform(X).A"
   ]
  },
  {
   "cell_type": "code",
   "execution_count": 97,
   "metadata": {},
   "outputs": [
    {
     "data": {
      "text/plain": [
       "array([   0,    1,    2, ..., 9997, 9998, 9999], dtype=uint16)"
      ]
     },
     "execution_count": 97,
     "metadata": {},
     "output_type": "execute_result"
    }
   ],
   "source": [
    "samplespace"
   ]
  },
  {
   "cell_type": "code",
   "execution_count": 98,
   "metadata": {},
   "outputs": [
    {
     "data": {
      "text/plain": [
       "array([[   0],\n",
       "       [   1],\n",
       "       [   2],\n",
       "       ..., \n",
       "       [9997],\n",
       "       [9998],\n",
       "       [9999]], dtype=uint16)"
      ]
     },
     "execution_count": 98,
     "metadata": {},
     "output_type": "execute_result"
    }
   ],
   "source": [
    "samplespace.reshape(-1, 1)"
   ]
  },
  {
   "cell_type": "code",
   "execution_count": 99,
   "metadata": {
    "collapsed": true
   },
   "outputs": [],
   "source": [
    "from maxentropy.maxentutils import evaluate_feature_matrix"
   ]
  },
  {
   "cell_type": "code",
   "execution_count": 100,
   "metadata": {
    "collapsed": true
   },
   "outputs": [],
   "source": [
    "F = evaluate_feature_matrix(features, samplespace, format='ndarray')"
   ]
  },
  {
   "cell_type": "code",
   "execution_count": 101,
   "metadata": {},
   "outputs": [
    {
     "data": {
      "text/plain": [
       "(8, 10000)"
      ]
     },
     "execution_count": 101,
     "metadata": {},
     "output_type": "execute_result"
    }
   ],
   "source": [
    "F.shape"
   ]
  },
  {
   "cell_type": "code",
   "execution_count": 102,
   "metadata": {},
   "outputs": [
    {
     "name": "stdout",
     "output_type": "stream",
     "text": [
      "10 loops, best of 3: 21.5 ms per loop\n"
     ]
    }
   ],
   "source": [
    "%timeit evaluate_feature_matrix(features, samplespace, format='ndarray')"
   ]
  },
  {
   "cell_type": "markdown",
   "metadata": {},
   "source": [
    "#### Performance oddity with range() and numpy integers"
   ]
  },
  {
   "cell_type": "code",
   "execution_count": 103,
   "metadata": {},
   "outputs": [
    {
     "name": "stdout",
     "output_type": "stream",
     "text": [
      "1000 loops, best of 3: 1.43 ms per loop\n"
     ]
    }
   ],
   "source": [
    "%timeit samplespace[1000] in range(1000)   # super slow!! with a 16-bit uint dtype"
   ]
  },
  {
   "cell_type": "code",
   "execution_count": 104,
   "metadata": {
    "collapsed": true
   },
   "outputs": [],
   "source": [
    "s = set(range(1000))"
   ]
  },
  {
   "cell_type": "code",
   "execution_count": 105,
   "metadata": {},
   "outputs": [
    {
     "name": "stdout",
     "output_type": "stream",
     "text": [
      "The slowest run took 56.17 times longer than the fastest. This could mean that an intermediate result is being cached.\n",
      "10000000 loops, best of 3: 136 ns per loop\n"
     ]
    }
   ],
   "source": [
    "%timeit samplespace[1000] in s             # much faster"
   ]
  },
  {
   "cell_type": "code",
   "execution_count": 106,
   "metadata": {
    "collapsed": true
   },
   "outputs": [],
   "source": [
    "thing = np.array(1000, dtype=int)"
   ]
  },
  {
   "cell_type": "code",
   "execution_count": 107,
   "metadata": {},
   "outputs": [
    {
     "name": "stdout",
     "output_type": "stream",
     "text": [
      "1000 loops, best of 3: 819 µs per loop\n"
     ]
    }
   ],
   "source": [
    "%timeit thing in range(1000)               # also very slow"
   ]
  },
  {
   "cell_type": "code",
   "execution_count": 108,
   "metadata": {},
   "outputs": [
    {
     "name": "stdout",
     "output_type": "stream",
     "text": [
      "The slowest run took 8.26 times longer than the fastest. This could mean that an intermediate result is being cached.\n",
      "1000000 loops, best of 3: 365 ns per loop\n"
     ]
    }
   ],
   "source": [
    "%timeit 1000 in range(1000)                # even this is slower than a set. Poor implementation of range.__contains__!"
   ]
  },
  {
   "cell_type": "markdown",
   "metadata": {},
   "source": [
    "### Back to the model"
   ]
  },
  {
   "cell_type": "code",
   "execution_count": 109,
   "metadata": {},
   "outputs": [
    {
     "data": {
      "text/plain": [
       "array([[   0],\n",
       "       [   1],\n",
       "       [   2],\n",
       "       ..., \n",
       "       [9997],\n",
       "       [9998],\n",
       "       [9999]], dtype=uint16)"
      ]
     },
     "execution_count": 109,
     "metadata": {},
     "output_type": "execute_result"
    }
   ],
   "source": [
    "samplespace.reshape(-1, 1)"
   ]
  },
  {
   "cell_type": "code",
   "execution_count": 110,
   "metadata": {
    "collapsed": true
   },
   "outputs": [],
   "source": [
    "F = transformer.transform(samplespace.reshape(-1, 1))"
   ]
  },
  {
   "cell_type": "code",
   "execution_count": 111,
   "metadata": {},
   "outputs": [],
   "source": [
    "# %timeit F = transformer.transform(samplespace.reshape(-1, 1))"
   ]
  },
  {
   "cell_type": "code",
   "execution_count": 112,
   "metadata": {},
   "outputs": [
    {
     "data": {
      "text/plain": [
       "<10000x8 sparse matrix of type '<class 'numpy.float64'>'\n",
       "\twith 5498 stored elements in Compressed Sparse Row format>"
      ]
     },
     "execution_count": 112,
     "metadata": {},
     "output_type": "execute_result"
    }
   ],
   "source": [
    "F"
   ]
  },
  {
   "cell_type": "code",
   "execution_count": 113,
   "metadata": {},
   "outputs": [],
   "source": [
    "k = F.mean(axis=0)"
   ]
  },
  {
   "cell_type": "code",
   "execution_count": 114,
   "metadata": {},
   "outputs": [
    {
     "data": {
      "text/plain": [
       "matrix([[ 0.096 ,  0.004 ,  0.1   ,  0.1   ,  0.08  ,  0.0798,  0.08  ,\n",
       "          0.01  ]])"
      ]
     },
     "execution_count": 114,
     "metadata": {},
     "output_type": "execute_result"
    }
   ],
   "source": [
    "k"
   ]
  },
  {
   "cell_type": "markdown",
   "metadata": {},
   "source": [
    "These are the empirical expectations over the entire sample space, weighting all postcodes from 0 to 9999 equally."
   ]
  },
  {
   "cell_type": "markdown",
   "metadata": {},
   "source": [
    "More likely, we would want to supply the desired feature expectations as constraints from **prior knowledge** and/or compute the expectations on an actual dataset.\n",
    "\n",
    "Here is an example: suppose we know that:\n",
    "- "
   ]
  },
  {
   "cell_type": "code",
   "execution_count": 210,
   "metadata": {
    "collapsed": true
   },
   "outputs": [],
   "source": [
    "k = np.array([[#0.95,\n",
    "               0.3, 0.05, 0.25, 0.2, 0.1, 0.05, 0.025, 0.025]])"
   ]
  },
  {
   "cell_type": "code",
   "execution_count": 211,
   "metadata": {},
   "outputs": [
    {
     "data": {
      "text/plain": [
       "(1, 8)"
      ]
     },
     "execution_count": 211,
     "metadata": {},
     "output_type": "execute_result"
    }
   ],
   "source": [
    "k.shape"
   ]
  },
  {
   "cell_type": "code",
   "execution_count": 212,
   "metadata": {},
   "outputs": [],
   "source": [
    "model = MaxEntPrior(features, samplespace, format='ndarray', verbose=False)"
   ]
  },
  {
   "cell_type": "code",
   "execution_count": 213,
   "metadata": {},
   "outputs": [
    {
     "data": {
      "text/plain": [
       "MaxEntPrior(features=[<function is_nsw_street at 0x111aaaae8>, <function is_act_street at 0x111aaa7b8>, <function is_vic_street at 0x111aaa488>, <function is_qld_street at 0x111aaa510>, <function is_sa_street at 0x111aaa840>, <function is_wa_street at 0x111aaaa60>, <function is_tas_street at 0x111aaa158>, <function is_nt_street at 0x111aea1e0>],\n",
       "      format='ndarray',\n",
       "      samplespace=array([   0,    1, ..., 9998, 9999], dtype=uint16),\n",
       "      vectorized=True, verbose=False)"
      ]
     },
     "execution_count": 213,
     "metadata": {},
     "output_type": "execute_result"
    }
   ],
   "source": [
    "model"
   ]
  },
  {
   "cell_type": "code",
   "execution_count": 214,
   "metadata": {},
   "outputs": [
    {
     "data": {
      "text/plain": [
       "MaxEntPrior(features=[<function is_nsw_street at 0x111aaaae8>, <function is_act_street at 0x111aaa7b8>, <function is_vic_street at 0x111aaa488>, <function is_qld_street at 0x111aaa510>, <function is_sa_street at 0x111aaa840>, <function is_wa_street at 0x111aaaa60>, <function is_tas_street at 0x111aaa158>, <function is_nt_street at 0x111aea1e0>],\n",
       "      format='ndarray',\n",
       "      samplespace=array([   0,    1, ..., 9998, 9999], dtype=uint16),\n",
       "      vectorized=True, verbose=False)"
      ]
     },
     "execution_count": 214,
     "metadata": {},
     "output_type": "execute_result"
    }
   ],
   "source": [
    "model.fit(k)"
   ]
  },
  {
   "cell_type": "code",
   "execution_count": 216,
   "metadata": {},
   "outputs": [
    {
     "data": {
      "text/plain": [
       "array([ 15.75136371,  17.1376572 ,  15.52822002,  15.30507631,\n",
       "        14.83507262,  14.14442807,  13.44877592,  15.52821932])"
      ]
     },
     "execution_count": 216,
     "metadata": {},
     "output_type": "execute_result"
    }
   ],
   "source": [
    "model.params_"
   ]
  },
  {
   "cell_type": "code",
   "execution_count": 178,
   "metadata": {},
   "outputs": [
    {
     "data": {
      "text/plain": [
       "8"
      ]
     },
     "execution_count": 178,
     "metadata": {},
     "output_type": "execute_result"
    }
   ],
   "source": [
    "len(features)"
   ]
  },
  {
   "cell_type": "code",
   "execution_count": 179,
   "metadata": {},
   "outputs": [
    {
     "data": {
      "text/plain": [
       "(10000,)"
      ]
     },
     "execution_count": 179,
     "metadata": {},
     "output_type": "execute_result"
    }
   ],
   "source": [
    "samplespace.shape"
   ]
  },
  {
   "cell_type": "code",
   "execution_count": 180,
   "metadata": {},
   "outputs": [
    {
     "data": {
      "text/plain": [
       "(1, 8)"
      ]
     },
     "execution_count": 180,
     "metadata": {},
     "output_type": "execute_result"
    }
   ],
   "source": [
    "k.shape"
   ]
  },
  {
   "cell_type": "code",
   "execution_count": 181,
   "metadata": {},
   "outputs": [
    {
     "data": {
      "text/plain": [
       "(8, 10000)"
      ]
     },
     "execution_count": 181,
     "metadata": {},
     "output_type": "execute_result"
    }
   ],
   "source": [
    "model.model.F.shape"
   ]
  },
  {
   "cell_type": "code",
   "execution_count": 182,
   "metadata": {},
   "outputs": [],
   "source": [
    "model.model.resetparams()"
   ]
  },
  {
   "cell_type": "code",
   "execution_count": 183,
   "metadata": {},
   "outputs": [
    {
     "data": {
      "text/plain": [
       "array([ 0.,  0.,  0.,  0.,  0.,  0.,  0.,  0.])"
      ]
     },
     "execution_count": 183,
     "metadata": {},
     "output_type": "execute_result"
    }
   ],
   "source": [
    "model.model.params"
   ]
  },
  {
   "cell_type": "code",
   "execution_count": 184,
   "metadata": {
    "collapsed": true
   },
   "outputs": [],
   "source": [
    "from maxentropy import model"
   ]
  },
  {
   "cell_type": "code",
   "execution_count": 185,
   "metadata": {
    "collapsed": true
   },
   "outputs": [],
   "source": [
    "maxentmodel = model.Model(features, samplespace, format='ndarray')"
   ]
  },
  {
   "cell_type": "code",
   "execution_count": 186,
   "metadata": {},
   "outputs": [
    {
     "data": {
      "text/plain": [
       "(1, 8)"
      ]
     },
     "execution_count": 186,
     "metadata": {},
     "output_type": "execute_result"
    }
   ],
   "source": [
    "k.shape"
   ]
  },
  {
   "cell_type": "code",
   "execution_count": 187,
   "metadata": {},
   "outputs": [
    {
     "data": {
      "text/plain": [
       "array([[ 0.,  0.,  0., ...,  0.,  0.,  0.],\n",
       "       [ 0.,  0.,  0., ...,  0.,  0.,  0.],\n",
       "       [ 0.,  0.,  0., ...,  0.,  0.,  0.],\n",
       "       ..., \n",
       "       [ 0.,  0.,  0., ...,  0.,  0.,  0.],\n",
       "       [ 0.,  0.,  0., ...,  0.,  0.,  0.],\n",
       "       [ 0.,  0.,  0., ...,  0.,  0.,  0.]])"
      ]
     },
     "execution_count": 187,
     "metadata": {},
     "output_type": "execute_result"
    }
   ],
   "source": [
    "maxentmodel.F"
   ]
  },
  {
   "cell_type": "code",
   "execution_count": 188,
   "metadata": {},
   "outputs": [
    {
     "data": {
      "text/plain": [
       "0.068724999999999994"
      ]
     },
     "execution_count": 188,
     "metadata": {},
     "output_type": "execute_result"
    }
   ],
   "source": [
    "maxentmodel.F.mean()"
   ]
  },
  {
   "cell_type": "code",
   "execution_count": 189,
   "metadata": {},
   "outputs": [
    {
     "data": {
      "text/plain": [
       "(8, 10000)"
      ]
     },
     "execution_count": 189,
     "metadata": {},
     "output_type": "execute_result"
    }
   ],
   "source": [
    "maxentmodel.F.shape"
   ]
  },
  {
   "cell_type": "code",
   "execution_count": 190,
   "metadata": {},
   "outputs": [],
   "source": [
    "maxentmodel.resetparams()"
   ]
  },
  {
   "cell_type": "code",
   "execution_count": 191,
   "metadata": {},
   "outputs": [
    {
     "data": {
      "text/plain": [
       "array([ 0.,  0.,  0.,  0.,  0.,  0.,  0.,  0.])"
      ]
     },
     "execution_count": 191,
     "metadata": {},
     "output_type": "execute_result"
    }
   ],
   "source": [
    "maxentmodel.params"
   ]
  },
  {
   "cell_type": "code",
   "execution_count": 192,
   "metadata": {},
   "outputs": [
    {
     "data": {
      "text/plain": [
       "9.2103403719761836"
      ]
     },
     "execution_count": 192,
     "metadata": {},
     "output_type": "execute_result"
    }
   ],
   "source": [
    "maxentmodel.lognormconst()"
   ]
  },
  {
   "cell_type": "code",
   "execution_count": 193,
   "metadata": {},
   "outputs": [
    {
     "data": {
      "text/plain": [
       "array([ 0.096 ,  0.004 ,  0.1   ,  0.1   ,  0.08  ,  0.0798,  0.08  ,  0.01  ])"
      ]
     },
     "execution_count": 193,
     "metadata": {},
     "output_type": "execute_result"
    }
   ],
   "source": [
    "maxentmodel.expectations()"
   ]
  },
  {
   "cell_type": "code",
   "execution_count": 194,
   "metadata": {},
   "outputs": [
    {
     "data": {
      "text/plain": [
       "array([[ 0.3  ,  0.05 ,  0.25 ,  0.2  ,  0.1  ,  0.05 ,  0.025,  0.025]])"
      ]
     },
     "execution_count": 194,
     "metadata": {},
     "output_type": "execute_result"
    }
   ],
   "source": [
    "k"
   ]
  },
  {
   "cell_type": "code",
   "execution_count": 195,
   "metadata": {},
   "outputs": [
    {
     "data": {
      "text/plain": [
       "array([  1.00000000e-04,   1.00000000e-04,   1.00000000e-04, ...,\n",
       "         1.00000000e-04,   1.00000000e-04,   1.00000000e-04])"
      ]
     },
     "execution_count": 195,
     "metadata": {},
     "output_type": "execute_result"
    }
   ],
   "source": [
    "maxentmodel.probdist()"
   ]
  },
  {
   "cell_type": "markdown",
   "metadata": {},
   "source": [
    "So each postcode on the sample space has a probability $10^{-4}$ under our unfitted prior model."
   ]
  },
  {
   "cell_type": "code",
   "execution_count": 196,
   "metadata": {},
   "outputs": [
    {
     "name": "stdout",
     "output_type": "stream",
     "text": [
      "\tx = 0               \tp(x) = 0.000\n",
      "\tx = 1               \tp(x) = 0.000\n",
      "\tx = 2               \tp(x) = 0.000\n",
      "\tx = 3               \tp(x) = 0.000\n",
      "\tx = 4               \tp(x) = 0.000\n",
      "\tx = 5               \tp(x) = 0.000\n",
      "\tx = 6               \tp(x) = 0.000\n",
      "\tx = 7               \tp(x) = 0.000\n",
      "\tx = 8               \tp(x) = 0.000\n",
      "\tx = 9               \tp(x) = 0.000\n",
      "\t...\n",
      "\tx = 9990            \tp(x) = 0.000\n",
      "\tx = 9991            \tp(x) = 0.000\n",
      "\tx = 9992            \tp(x) = 0.000\n",
      "\tx = 9993            \tp(x) = 0.000\n",
      "\tx = 9994            \tp(x) = 0.000\n",
      "\tx = 9995            \tp(x) = 0.000\n",
      "\tx = 9996            \tp(x) = 0.000\n",
      "\tx = 9997            \tp(x) = 0.000\n",
      "\tx = 9998            \tp(x) = 0.000\n",
      "\tx = 9999            \tp(x) = 0.000\n"
     ]
    }
   ],
   "source": [
    "maxentmodel.showdist()"
   ]
  },
  {
   "cell_type": "code",
   "execution_count": 199,
   "metadata": {},
   "outputs": [],
   "source": [
    "maxentmodel.fit(np.squeeze(k))"
   ]
  },
  {
   "cell_type": "code",
   "execution_count": 200,
   "metadata": {},
   "outputs": [
    {
     "data": {
      "text/plain": [
       "array([ 16.36928448,  17.75557723,  16.14614102,  15.9229976 ,\n",
       "        15.45299359,  14.76234888,  14.06670155,  16.14614269])"
      ]
     },
     "execution_count": 200,
     "metadata": {},
     "output_type": "execute_result"
    }
   ],
   "source": [
    "maxentmodel.params"
   ]
  },
  {
   "cell_type": "code",
   "execution_count": 202,
   "metadata": {},
   "outputs": [
    {
     "data": {
      "text/plain": [
       "array([ 0.29999996,  0.04999991,  0.24999999,  0.20000002,  0.09999997,\n",
       "        0.04999995,  0.02500005,  0.02500004])"
      ]
     },
     "execution_count": 202,
     "metadata": {},
     "output_type": "execute_result"
    }
   ],
   "source": [
    "maxentmodel.expectations()"
   ]
  },
  {
   "cell_type": "code",
   "execution_count": 206,
   "metadata": {},
   "outputs": [
    {
     "data": {
      "text/plain": [
       "array([ 16.36928448,  17.75557723,  16.14614102,  15.9229976 ,\n",
       "        15.45299359,  14.76234888,  14.06670155,  16.14614269])"
      ]
     },
     "execution_count": 206,
     "metadata": {},
     "output_type": "execute_result"
    }
   ],
   "source": [
    "maxentmodel.params"
   ]
  },
  {
   "cell_type": "code",
   "execution_count": 205,
   "metadata": {},
   "outputs": [
    {
     "data": {
      "text/plain": [
       "array([  2.43086052e-11,   2.43086052e-11,   2.43086052e-11, ...,\n",
       "         2.43086052e-11,   2.43086052e-11,   2.43086052e-11])"
      ]
     },
     "execution_count": 205,
     "metadata": {},
     "output_type": "execute_result"
    }
   ],
   "source": [
    "maxentmodel.probdist()"
   ]
  }
 ],
 "metadata": {
  "kernelspec": {
   "display_name": "Python 3",
   "language": "python",
   "name": "python3"
  },
  "language_info": {
   "codemirror_mode": {
    "name": "ipython",
    "version": 3
   },
   "file_extension": ".py",
   "mimetype": "text/x-python",
   "name": "python",
   "nbconvert_exporter": "python",
   "pygments_lexer": "ipython3",
   "version": "3.6.0"
  }
 },
 "nbformat": 4,
 "nbformat_minor": 2
}
