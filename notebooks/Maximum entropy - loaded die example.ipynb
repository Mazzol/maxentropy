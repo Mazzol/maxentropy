{
 "cells": [
  {
   "cell_type": "markdown",
   "metadata": {},
   "source": [
    "# Maximum entropy: loaded die example\n",
    "\n",
    "Example use of the maximum entropy package: the Unfair die example from Jaynes, *Probability Theory: The Logic of Science*, 2006.\n",
    "\n",
    "Suppose you know that the long-run average number on the face of a 6-sided die\n",
    "tossed many times is 4.5.\n",
    "\n",
    "What probability $p(x)$ would you assign to rolling $x$ on the next roll?\n",
    "\n",
    "This code finds the probability distribution with maximal entropy\n",
    "subject to the single constraint:\n",
    "\n",
    "1.    $E f(X) = 4.5$\n",
    "\n",
    "where $f(x) = x$."
   ]
  },
  {
   "cell_type": "code",
   "execution_count": 1,
   "metadata": {
    "collapsed": true
   },
   "outputs": [],
   "source": [
    "%matplotlib inline\n",
    "import numpy as np\n",
    "import seaborn as sns\n",
    "import matplotlib.pyplot as plt\n",
    "import maxentropy"
   ]
  },
  {
   "cell_type": "code",
   "execution_count": 2,
   "metadata": {
    "collapsed": true
   },
   "outputs": [],
   "source": [
    "samplespace = np.arange(6) + 1\n",
    "\n",
    "def f0(x):\n",
    "    return x\n",
    "\n",
    "f = [f0]"
   ]
  },
  {
   "cell_type": "code",
   "execution_count": 49,
   "metadata": {},
   "outputs": [
    {
     "data": {
      "text/plain": [
       "array([[5],\n",
       "       [6],\n",
       "       [6],\n",
       "       [1]])"
      ]
     },
     "execution_count": 49,
     "metadata": {},
     "output_type": "execute_result"
    }
   ],
   "source": []
  },
  {
   "cell_type": "code",
   "execution_count": 3,
   "metadata": {
    "collapsed": true
   },
   "outputs": [],
   "source": [
    "model = maxentropy.Model(samplespace)\n",
    "model.verbose = True"
   ]
  },
  {
   "cell_type": "code",
   "execution_count": 4,
   "metadata": {},
   "outputs": [
    {
     "data": {
      "text/plain": [
       "1e-07"
      ]
     },
     "execution_count": 4,
     "metadata": {},
     "output_type": "execute_result"
    }
   ],
   "source": [
    "model.avegtol"
   ]
  },
  {
   "cell_type": "code",
   "execution_count": 5,
   "metadata": {},
   "outputs": [
    {
     "name": "stdout",
     "output_type": "stream",
     "text": [
      "Grad eval #0\n",
      "  norm of gradient = 1.0\n",
      "Function eval # 0\n",
      "  dual is  1.79175946923\n",
      "Function eval # 1\n",
      "  dual is  1.95619331602\n",
      "Grad eval #1\n",
      "  norm of gradient = 0.9329327630717401\n",
      "Function eval # 2\n",
      "  dual is  1.61358826419\n",
      "Grad eval #2\n",
      "  norm of gradient = 0.005733373954516452\n",
      "Iteration # 0\n",
      "Function eval # 3\n",
      "  dual is  1.61358826419\n",
      "Function eval # 4\n",
      "  dual is  1.61358845389\n",
      "Function eval # 5\n",
      "  dual is  1.61358835873\n",
      "Function eval # 6\n",
      "  dual is  1.61358831138\n",
      "Function eval # 7\n",
      "  dual is  1.61358828777\n",
      "Function eval # 8\n",
      "  dual is  1.61358827597\n",
      "Function eval # 9\n",
      "  dual is  1.61358827008\n",
      "Function eval # 10\n",
      "  dual is  1.61358826713\n",
      "Function eval # 11\n",
      "  dual is  1.61358826566\n",
      "Function eval # 12\n",
      "  dual is  1.61358826493\n",
      "Function eval # 13\n",
      "  dual is  1.61358826456\n",
      "Function eval # 14\n",
      "  dual is  1.61358826437\n",
      "Function eval # 15\n",
      "  dual is  1.61358826428\n",
      "Warning: Desired error not necessarily achieved due to precision loss.\n",
      "         Current function value: 1.613588\n",
      "         Iterations: 1\n",
      "         Function evaluations: 15\n",
      "         Gradient evaluations: 3\n"
     ]
    }
   ],
   "source": [
    "# Now set the desired feature expectations\n",
    "K = [4.5]\n",
    "\n",
    "# Fit the model\n",
    "model.fit(f, K)"
   ]
  },
  {
   "cell_type": "code",
   "execution_count": 6,
   "metadata": {},
   "outputs": [
    {
     "data": {
      "text/plain": [
       "array([ 0.37354745])"
      ]
     },
     "execution_count": 6,
     "metadata": {},
     "output_type": "execute_result"
    }
   ],
   "source": [
    "model.params"
   ]
  },
  {
   "cell_type": "markdown",
   "metadata": {},
   "source": [
    "### Warning: The CG algorithm didn't converge."
   ]
  },
  {
   "cell_type": "code",
   "execution_count": 7,
   "metadata": {},
   "outputs": [
    {
     "name": "stdout",
     "output_type": "stream",
     "text": [
      "\n",
      "Fitted model parameters are:\n",
      "[ 0.37354745]\n",
      "The fitted distribution is:\n",
      "\tx = 1               \tp(x) = 0.054\n",
      "\tx = 2               \tp(x) = 0.078\n",
      "\tx = 3               \tp(x) = 0.114\n",
      "\tx = 4               \tp(x) = 0.165\n",
      "\tx = 5               \tp(x) = 0.240\n",
      "\tx = 6               \tp(x) = 0.349\n"
     ]
    }
   ],
   "source": [
    "# Output the distribution\n",
    "print(\"\\nFitted model parameters are:\\n\" + str(model.params))\n",
    "print(\"The fitted distribution is:\")\n",
    "model.showdist()"
   ]
  },
  {
   "cell_type": "code",
   "execution_count": 8,
   "metadata": {},
   "outputs": [
    {
     "name": "stdout",
     "output_type": "stream",
     "text": [
      "\n",
      "Desired constraints:\n",
      "\tE(X) = 4.5\n",
      "\n",
      "Actual expectations under the fitted model:\n",
      "\t\\hat{X} =  [ 4.50573337]\n"
     ]
    }
   ],
   "source": [
    "# Now show how well the constraints are satisfied:\n",
    "print()\n",
    "print(\"Desired constraints:\")\n",
    "print(\"\\tE(X) = 4.5\")\n",
    "print()\n",
    "print(\"Actual expectations under the fitted model:\")\n",
    "print(\"\\t\\hat{X} = \", model.expectations())"
   ]
  },
  {
   "cell_type": "code",
   "execution_count": 9,
   "metadata": {},
   "outputs": [
    {
     "data": {
      "text/plain": [
       "False"
      ]
     },
     "execution_count": 9,
     "metadata": {},
     "output_type": "execute_result"
    }
   ],
   "source": [
    "np.allclose(K, model.expectations())"
   ]
  },
  {
   "cell_type": "markdown",
   "metadata": {},
   "source": [
    "### Try a different algorithm: BFGS"
   ]
  },
  {
   "cell_type": "code",
   "execution_count": 10,
   "metadata": {
    "collapsed": true
   },
   "outputs": [],
   "source": [
    "model.algorithm = 'BFGS'\n",
    "model.verbose = False\n",
    "model.fit(f, K)"
   ]
  },
  {
   "cell_type": "code",
   "execution_count": 11,
   "metadata": {},
   "outputs": [
    {
     "data": {
      "text/plain": [
       "True"
      ]
     },
     "execution_count": 11,
     "metadata": {},
     "output_type": "execute_result"
    }
   ],
   "source": [
    "np.allclose(K, model.expectations())"
   ]
  },
  {
   "cell_type": "markdown",
   "metadata": {},
   "source": [
    "This algorithm has converged, so the constraints are satisfied."
   ]
  },
  {
   "cell_type": "code",
   "execution_count": 12,
   "metadata": {},
   "outputs": [
    {
     "data": {
      "text/plain": [
       "array([ 0.37104894])"
      ]
     },
     "execution_count": 12,
     "metadata": {},
     "output_type": "execute_result"
    }
   ],
   "source": [
    "model.params"
   ]
  },
  {
   "cell_type": "code",
   "execution_count": 13,
   "metadata": {},
   "outputs": [
    {
     "data": {
      "text/plain": [
       "array([ 0.05435317,  0.07877155,  0.11415998,  0.1654468 ,  0.23977444,\n",
       "        0.34749406])"
      ]
     },
     "execution_count": 13,
     "metadata": {},
     "output_type": "execute_result"
    }
   ],
   "source": [
    "model.probdist()"
   ]
  },
  {
   "cell_type": "code",
   "execution_count": 14,
   "metadata": {},
   "outputs": [
    {
     "data": {
      "text/plain": [
       "<matplotlib.text.Text at 0x10e15f128>"
      ]
     },
     "execution_count": 14,
     "metadata": {},
     "output_type": "execute_result"
    },
    {
     "data": {
      "image/png": "[encoded data removed]",
      "text/plain": [
       "<matplotlib.figure.Figure at 0x100ee8630>"
      ]
     },
     "metadata": {},
     "output_type": "display_data"
    }
   ],
   "source": [
    "sns.barplot(np.arange(1, 7), model.probdist())\n",
    "plt.title('Probability $p(x)$ of each die face $x$')"
   ]
  }
 ],
 "metadata": {
  "kernelspec": {
   "display_name": "Python 3",
   "language": "python",
   "name": "python3"
  },
  "language_info": {
   "codemirror_mode": {
    "name": "ipython",
    "version": 3
   },
   "file_extension": ".py",
   "mimetype": "text/x-python",
   "name": "python",
   "nbconvert_exporter": "python",
   "pygments_lexer": "ipython3",
   "version": "3.6.0"
  }
 },
 "nbformat": 4,
 "nbformat_minor": 2
}
